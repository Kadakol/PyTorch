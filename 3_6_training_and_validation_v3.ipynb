{
  "nbformat": 4,
  "nbformat_minor": 0,
  "metadata": {
    "kernelspec": {
      "display_name": "Python 3",
      "language": "python",
      "name": "python3"
    },
    "language_info": {
      "codemirror_mode": {
        "name": "ipython",
        "version": 3
      },
      "file_extension": ".py",
      "mimetype": "text/x-python",
      "name": "python",
      "nbconvert_exporter": "python",
      "pygments_lexer": "ipython3",
      "version": "3.6.8"
    },
    "colab": {
      "name": "3.6_training_and_validation_v3.ipynb",
      "provenance": [],
      "collapsed_sections": [],
      "include_colab_link": true
    }
  },
  "cells": [
    {
      "cell_type": "markdown",
      "metadata": {
        "id": "view-in-github",
        "colab_type": "text"
      },
      "source": [
        "<a href=\"https://colab.research.google.com/github/Kadakol/PyTorch/blob/master/3_6_training_and_validation_v3.ipynb\" target=\"_parent\"><img src=\"https://colab.research.google.com/assets/colab-badge.svg\" alt=\"Open In Colab\"/></a>"
      ]
    },
    {
      "cell_type": "markdown",
      "metadata": {
        "id": "gq9nlZgj3soF",
        "colab_type": "text"
      },
      "source": [
        "<a href=\"http://cocl.us/pytorch_link_top\">\n",
        "    <img src=\"https://s3-api.us-geo.objectstorage.softlayer.net/cf-courses-data/CognitiveClass/DL0110EN/notebook_images%20/Pytochtop.png\" width=\"750\" alt=\"IBM Product \" />\n",
        "</a> "
      ]
    },
    {
      "cell_type": "markdown",
      "metadata": {
        "id": "spts74r13soK",
        "colab_type": "text"
      },
      "source": [
        "<img src=\"https://s3-api.us-geo.objectstorage.softlayer.net/cf-courses-data/CognitiveClass/DL0110EN/notebook_images%20/cc-logo-square.png\" width=\"200\" alt=\"cognitiveclass.ai logo\" />"
      ]
    },
    {
      "cell_type": "markdown",
      "metadata": {
        "id": "z-9XHCxJ3soM",
        "colab_type": "text"
      },
      "source": [
        "<h1>Linear regression: Training and Validation Data</h1> "
      ]
    },
    {
      "cell_type": "markdown",
      "metadata": {
        "id": "QLwxBcKb3soN",
        "colab_type": "text"
      },
      "source": [
        "<h2>Table of Contents</h2>\n",
        "<p>In this lab, you will learn to select the best learning rate by using validation data.</p>\n",
        "\n",
        "<ul>\n",
        "    <li><a href=\"#Makeup_Data\">Make Some Data</a></li>\n",
        "    <li><a href=\"#LR_Loader_Cost\">Create a Linear Regression Object, Data Loader and Criterion Function</a></li>\n",
        "    <li><a href=\"#LR_Hyper\">Different learning rates and Data Structures to Store results for Different Hyperparameters</a></li>\n",
        "    <li><a href=\"#Model\">Train different modules for different Hyperparameters</a></li>\n",
        "    <li><a href=\"#Result\">View Results</a></li>\n",
        "</ul>\n",
        "\n",
        "<p>Estimated Time Needed: <strong>30 min</strong></p>\n",
        "\n",
        "<hr>"
      ]
    },
    {
      "cell_type": "markdown",
      "metadata": {
        "id": "aTp3LAiC3soO",
        "colab_type": "text"
      },
      "source": [
        "<h2>Preparation</h2>"
      ]
    },
    {
      "cell_type": "markdown",
      "metadata": {
        "id": "kQ-iCWxG3soQ",
        "colab_type": "text"
      },
      "source": [
        "We'll need the following libraries and set the random seed."
      ]
    },
    {
      "cell_type": "code",
      "metadata": {
        "id": "UWUdMSQQ3soR",
        "colab_type": "code",
        "colab": {}
      },
      "source": [
        "# Import libraries we need for this lab, and set the random seed\n",
        "\n",
        "from torch import nn\n",
        "import torch\n",
        "import numpy as np\n",
        "import matplotlib.pyplot as plt\n",
        "from torch import nn,optim"
      ],
      "execution_count": 0,
      "outputs": []
    },
    {
      "cell_type": "markdown",
      "metadata": {
        "id": "Zzd333lJ3soc",
        "colab_type": "text"
      },
      "source": [
        "<!--Empty Space for separating topics-->"
      ]
    },
    {
      "cell_type": "markdown",
      "metadata": {
        "id": "0aP2Z0FB3soe",
        "colab_type": "text"
      },
      "source": [
        "<h2 id=\"Makeup_Data\">Make Some Data</h2>"
      ]
    },
    {
      "cell_type": "markdown",
      "metadata": {
        "id": "VoxfvBZ-3sog",
        "colab_type": "text"
      },
      "source": [
        "First, we'll create some artificial data in a dataset class. The class will include the option to produce training data or validation data. The training data will include outliers."
      ]
    },
    {
      "cell_type": "code",
      "metadata": {
        "id": "Li7c9YvJ3soh",
        "colab_type": "code",
        "colab": {}
      },
      "source": [
        "# Create Data class\n",
        "\n",
        "from torch.utils.data import Dataset, DataLoader\n",
        "\n",
        "class Data(Dataset):\n",
        "    \n",
        "    # Constructor\n",
        "    def __init__(self, train = True):\n",
        "            self.x = torch.arange(-3, 3, 0.1).view(-1, 1)\n",
        "            self.f = -3 * self.x + 1\n",
        "            self.y = self.f + 0.1 * torch.randn(self.x.size())\n",
        "            self.len = self.x.shape[0]\n",
        "            \n",
        "            #outliers \n",
        "            if train == True:\n",
        "                self.y[0] = 0\n",
        "                self.y[50:55] = 20\n",
        "            else:\n",
        "                pass\n",
        "      \n",
        "    # Getter\n",
        "    def __getitem__(self, index):    \n",
        "        return self.x[index], self.y[index]\n",
        "    \n",
        "    # Get Length\n",
        "    def __len__(self):\n",
        "        return self.len"
      ],
      "execution_count": 0,
      "outputs": []
    },
    {
      "cell_type": "markdown",
      "metadata": {
        "id": "9JfcgTEK3soq",
        "colab_type": "text"
      },
      "source": [
        "Create two objects: one that contains training data and a second that contains validation data. Assume that the training data has the outliers. "
      ]
    },
    {
      "cell_type": "code",
      "metadata": {
        "id": "AnLmo3Al3sor",
        "colab_type": "code",
        "colab": {}
      },
      "source": [
        "# Create training dataset and validation dataset\n",
        "\n",
        "train_data = Data()\n",
        "val_data = Data(train = False)"
      ],
      "execution_count": 0,
      "outputs": []
    },
    {
      "cell_type": "markdown",
      "metadata": {
        "id": "TvZlKr_63so7",
        "colab_type": "text"
      },
      "source": [
        "Overlay the training points in red over the function that generated the data. Notice the outliers at x=-3 and around x=2:"
      ]
    },
    {
      "cell_type": "code",
      "metadata": {
        "id": "f5hwip913so9",
        "colab_type": "code",
        "colab": {
          "base_uri": "https://localhost:8080/",
          "height": 279
        },
        "outputId": "8544b206-e454-496f-e081-7f6b6919e563"
      },
      "source": [
        "# Plot out training points\n",
        "\n",
        "plt.plot(train_data.x.numpy(), train_data.y.numpy(), 'xr',label=\"training data \")\n",
        "plt.plot(train_data.x.numpy(), train_data.f.numpy(),label=\"true function  \")\n",
        "plt.xlabel('x')\n",
        "plt.ylabel('y')\n",
        "plt.legend()\n",
        "plt.show()"
      ],
      "execution_count": 4,
      "outputs": [
        {
          "output_type": "display_data",
          "data": {
            "image/png": "[encoded data removed]",
            "text/plain": [
              "<Figure size 432x288 with 1 Axes>"
            ]
          },
          "metadata": {
            "tags": [],
            "needs_background": "light"
          }
        }
      ]
    },
    {
      "cell_type": "markdown",
      "metadata": {
        "id": "K7OuaYq93spD",
        "colab_type": "text"
      },
      "source": [
        "<!--Empty Space for separating topics-->"
      ]
    },
    {
      "cell_type": "markdown",
      "metadata": {
        "id": "FoFjk5jq3spG",
        "colab_type": "text"
      },
      "source": [
        "<h2 id=\"LR_Loader_Cost\">Create a Linear Regression Object,  Data Loader, and Criterion Function</h2>"
      ]
    },
    {
      "cell_type": "code",
      "metadata": {
        "id": "6SfRpE213spH",
        "colab_type": "code",
        "colab": {}
      },
      "source": [
        "# Create Linear Regression Class\n",
        "\n",
        "from torch import nn\n",
        "\n",
        "class linear_regression(nn.Module):\n",
        "    \n",
        "    # Constructor\n",
        "    def __init__(self, input_size, output_size):\n",
        "        super(linear_regression, self).__init__()\n",
        "        self.linear = nn.Linear(input_size, output_size)\n",
        "    \n",
        "    # Prediction function\n",
        "    def forward(self, x):\n",
        "        yhat = self.linear(x)\n",
        "        return yhat"
      ],
      "execution_count": 0,
      "outputs": []
    },
    {
      "cell_type": "markdown",
      "metadata": {
        "id": "YBup9Nyw3spP",
        "colab_type": "text"
      },
      "source": [
        "Create the criterion function and a <code>DataLoader</code> object: "
      ]
    },
    {
      "cell_type": "code",
      "metadata": {
        "id": "mLdGTPCg3spR",
        "colab_type": "code",
        "colab": {}
      },
      "source": [
        "# Create MSELoss function and DataLoader\n",
        "\n",
        "criterion = nn.MSELoss()\n",
        "trainloader = DataLoader(dataset = train_data, batch_size = 1)"
      ],
      "execution_count": 0,
      "outputs": []
    },
    {
      "cell_type": "markdown",
      "metadata": {
        "id": "vAg-GKDk3spX",
        "colab_type": "text"
      },
      "source": [
        "<!--Empty Space for separating topics-->"
      ]
    },
    {
      "cell_type": "markdown",
      "metadata": {
        "id": "50rOOcHN3spY",
        "colab_type": "text"
      },
      "source": [
        "<h2 id=\"LR_Hyper\">Different learning rates and Data Structures to Store results for different Hyperparameters</h2>"
      ]
    },
    {
      "cell_type": "markdown",
      "metadata": {
        "id": "qNv2fVFN3spa",
        "colab_type": "text"
      },
      "source": [
        "Create a list with different learning rates and a tensor (can be a list) for the training and validating cost/total loss. Include the list MODELS, which stores the training model for every value of the learning rate. "
      ]
    },
    {
      "cell_type": "code",
      "metadata": {
        "id": "q8nrv-Ry3spb",
        "colab_type": "code",
        "colab": {}
      },
      "source": [
        "# Create Learning Rate list, the error lists and the MODELS list\n",
        "\n",
        "learning_rates=[0.0001, 0.001, 0.01, 0.1]\n",
        "\n",
        "train_error=torch.zeros(len(learning_rates))\n",
        "validation_error=torch.zeros(len(learning_rates))\n",
        "\n",
        "MODELS=[]"
      ],
      "execution_count": 0,
      "outputs": []
    },
    {
      "cell_type": "markdown",
      "metadata": {
        "id": "2wq8uwM23spj",
        "colab_type": "text"
      },
      "source": [
        "<!--Empty Space for separating topics-->"
      ]
    },
    {
      "cell_type": "markdown",
      "metadata": {
        "id": "JkdZOla83spl",
        "colab_type": "text"
      },
      "source": [
        "<h2 id=\"Model\">Train different models  for different Hyperparameters</h2>"
      ]
    },
    {
      "cell_type": "markdown",
      "metadata": {
        "id": "m0WTCyIA3spn",
        "colab_type": "text"
      },
      "source": [
        "Try different values of learning rates, perform stochastic gradient descent, and save the results on the training data and validation data. Finally, save each model in a list."
      ]
    },
    {
      "cell_type": "code",
      "metadata": {
        "id": "drFFzP5E3spr",
        "colab_type": "code",
        "colab": {}
      },
      "source": [
        "# Define the train model function and train the model\n",
        "\n",
        "def train_model_with_lr (iter, lr_list):\n",
        "    \n",
        "    # iterate through different learning rates \n",
        "    for i, lr in enumerate(lr_list):\n",
        "        model = linear_regression(1, 1)\n",
        "        optimizer = optim.SGD(model.parameters(), lr = lr)\n",
        "        for epoch in range(iter):\n",
        "            for x, y in trainloader:\n",
        "                yhat = model(x)\n",
        "                loss = criterion(yhat, y)\n",
        "                optimizer.zero_grad()\n",
        "                loss.backward()\n",
        "                optimizer.step()\n",
        "                \n",
        "        # train data\n",
        "        Yhat = model(train_data.x)\n",
        "        train_loss = criterion(Yhat, train_data.y)\n",
        "        train_error[i] = train_loss.item()\n",
        "    \n",
        "        # validation data\n",
        "        Yhat = model(val_data.x)\n",
        "        val_loss = criterion(Yhat, val_data.y)\n",
        "        validation_error[i] = val_loss.item()\n",
        "        MODELS.append(model)\n",
        "\n",
        "train_model_with_lr(10, learning_rates)"
      ],
      "execution_count": 0,
      "outputs": []
    },
    {
      "cell_type": "markdown",
      "metadata": {
        "id": "z-1KAEEX3spy",
        "colab_type": "text"
      },
      "source": [
        "<!--Empty Space for separating topics-->"
      ]
    },
    {
      "cell_type": "markdown",
      "metadata": {
        "id": "WMGYFLCn3spz",
        "colab_type": "text"
      },
      "source": [
        "<h2 id=\"Result\">View the Results</h2>"
      ]
    },
    {
      "cell_type": "markdown",
      "metadata": {
        "id": "MLjoFD553sp0",
        "colab_type": "text"
      },
      "source": [
        "Plot the training loss and validation loss for each learning rate:  "
      ]
    },
    {
      "cell_type": "code",
      "metadata": {
        "id": "3N0FkBds3sp1",
        "colab_type": "code",
        "colab": {
          "base_uri": "https://localhost:8080/",
          "height": 283
        },
        "outputId": "4db6ca8a-7a4d-434f-eaeb-78f94ae11adc"
      },
      "source": [
        "# Plot the training loss and validation loss\n",
        "\n",
        "plt.semilogx(np.array(learning_rates), train_error.numpy(), label = 'training loss/total Loss')\n",
        "plt.semilogx(np.array(learning_rates), validation_error.numpy(), label = 'validation cost/total Loss')\n",
        "plt.ylabel('Cost\\ Total Loss')\n",
        "plt.xlabel('learning rate')\n",
        "plt.legend()\n",
        "plt.show()"
      ],
      "execution_count": 9,
      "outputs": [
        {
          "output_type": "display_data",
          "data": {
            "image/png": "[encoded data removed]",
            "text/plain": [
              "<Figure size 432x288 with 1 Axes>"
            ]
          },
          "metadata": {
            "tags": [],
            "needs_background": "light"
          }
        }
      ]
    },
    {
      "cell_type": "markdown",
      "metadata": {
        "id": "rGMaylNf3sp6",
        "colab_type": "text"
      },
      "source": [
        "Produce a prediction by using the validation data for each model:  "
      ]
    },
    {
      "cell_type": "code",
      "metadata": {
        "id": "seWPfmew3sp7",
        "colab_type": "code",
        "colab": {
          "base_uri": "https://localhost:8080/",
          "height": 483
        },
        "outputId": "0eae9d57-ddc4-4ac3-9c3b-532f672f4475"
      },
      "source": [
        "# Plot the predictions\n",
        "\n",
        "i = 0\n",
        "for model, learning_rate in zip(MODELS, learning_rates):\n",
        "    yhat = model(val_data.x)\n",
        "    plt.plot(val_data.x.numpy(), yhat.detach().numpy(), label = 'lr:' + str(learning_rate))\n",
        "    print('i', yhat.detach().numpy()[0:3])\n",
        "plt.plot(val_data.x.numpy(), val_data.f.numpy(), 'or', label = 'validation data')\n",
        "plt.xlabel('x')\n",
        "plt.ylabel('y')\n",
        "plt.legend()\n",
        "plt.show()"
      ],
      "execution_count": 10,
      "outputs": [
        {
          "output_type": "stream",
          "text": [
            "i [[1.5109124]\n",
            " [1.4895942]\n",
            " [1.4682761]]\n",
            "i [[5.524233]\n",
            " [5.407838]\n",
            " [5.291443]]\n",
            "i [[6.5936413]\n",
            " [6.4594383]\n",
            " [6.3252354]]\n",
            "i [[14.51816 ]\n",
            " [14.081767]\n",
            " [13.645373]]\n"
          ],
          "name": "stdout"
        },
        {
          "output_type": "display_data",
          "data": {
            "image/png": "[encoded data removed]",
            "text/plain": [
              "<Figure size 432x288 with 1 Axes>"
            ]
          },
          "metadata": {
            "tags": [],
            "needs_background": "light"
          }
        }
      ]
    },
    {
      "cell_type": "markdown",
      "metadata": {
        "id": "edzUQjEM3sqi",
        "colab_type": "text"
      },
      "source": [
        "<!--Empty Space for separating topics-->"
      ]
    },
    {
      "cell_type": "markdown",
      "metadata": {
        "id": "4-MdYVRH3sqk",
        "colab_type": "text"
      },
      "source": [
        "<h3>Practice</h3>"
      ]
    },
    {
      "cell_type": "markdown",
      "metadata": {
        "id": "wQsMM4zH3sql",
        "colab_type": "text"
      },
      "source": [
        "The object <code>good_model</code> is the best performing model. Use the train loader to get the data samples x and y. Produce an estimate for <code>yhat</code> and print it out for every sample in a for a loop. Compare it to the actual prediction <code>y</code>."
      ]
    },
    {
      "cell_type": "code",
      "metadata": {
        "id": "q9gE5VntAMYW",
        "colab_type": "code",
        "colab": {
          "base_uri": "https://localhost:8080/",
          "height": 1000
        },
        "outputId": "f5240e94-3dfc-450c-b974-f583f08840b4"
      },
      "source": [
        "for x, y in trainloader:\n",
        "  yhat = MODELS[3](x)\n",
        "  print(yhat, y)"
      ],
      "execution_count": 13,
      "outputs": [
        {
          "output_type": "stream",
          "text": [
            "tensor([[6.5936]], grad_fn=<AddmmBackward>) tensor([[0.]])\n",
            "tensor([[6.4594]], grad_fn=<AddmmBackward>) tensor([[9.7041]])\n",
            "tensor([[6.3252]], grad_fn=<AddmmBackward>) tensor([[9.5282]])\n",
            "tensor([[6.1910]], grad_fn=<AddmmBackward>) tensor([[8.9891]])\n",
            "tensor([[6.0568]], grad_fn=<AddmmBackward>) tensor([[8.7948]])\n",
            "tensor([[5.9226]], grad_fn=<AddmmBackward>) tensor([[8.4899]])\n",
            "tensor([[5.7884]], grad_fn=<AddmmBackward>) tensor([[8.1204]])\n",
            "tensor([[5.6542]], grad_fn=<AddmmBackward>) tensor([[7.8616]])\n",
            "tensor([[5.5200]], grad_fn=<AddmmBackward>) tensor([[7.5682]])\n",
            "tensor([[5.3858]], grad_fn=<AddmmBackward>) tensor([[7.1416]])\n",
            "tensor([[5.2516]], grad_fn=<AddmmBackward>) tensor([[6.9572]])\n",
            "tensor([[5.1174]], grad_fn=<AddmmBackward>) tensor([[6.7111]])\n",
            "tensor([[4.9832]], grad_fn=<AddmmBackward>) tensor([[6.1997]])\n",
            "tensor([[4.8490]], grad_fn=<AddmmBackward>) tensor([[6.2776]])\n",
            "tensor([[4.7148]], grad_fn=<AddmmBackward>) tensor([[5.9162]])\n",
            "tensor([[4.5806]], grad_fn=<AddmmBackward>) tensor([[5.4044]])\n",
            "tensor([[4.4464]], grad_fn=<AddmmBackward>) tensor([[5.2360]])\n",
            "tensor([[4.3122]], grad_fn=<AddmmBackward>) tensor([[5.0531]])\n",
            "tensor([[4.1780]], grad_fn=<AddmmBackward>) tensor([[4.6323]])\n",
            "tensor([[4.0438]], grad_fn=<AddmmBackward>) tensor([[4.1365]])\n",
            "tensor([[3.9096]], grad_fn=<AddmmBackward>) tensor([[3.8755]])\n",
            "tensor([[3.7754]], grad_fn=<AddmmBackward>) tensor([[3.6275]])\n",
            "tensor([[3.6412]], grad_fn=<AddmmBackward>) tensor([[3.5539]])\n",
            "tensor([[3.5070]], grad_fn=<AddmmBackward>) tensor([[3.2858]])\n",
            "tensor([[3.3728]], grad_fn=<AddmmBackward>) tensor([[2.6776]])\n",
            "tensor([[3.2386]], grad_fn=<AddmmBackward>) tensor([[2.5148]])\n",
            "tensor([[3.1044]], grad_fn=<AddmmBackward>) tensor([[2.2263]])\n",
            "tensor([[2.9702]], grad_fn=<AddmmBackward>) tensor([[1.8463]])\n",
            "tensor([[2.8360]], grad_fn=<AddmmBackward>) tensor([[1.5606]])\n",
            "tensor([[2.7018]], grad_fn=<AddmmBackward>) tensor([[1.3227]])\n",
            "tensor([[2.5676]], grad_fn=<AddmmBackward>) tensor([[1.0550]])\n",
            "tensor([[2.4334]], grad_fn=<AddmmBackward>) tensor([[0.7531]])\n",
            "tensor([[2.2991]], grad_fn=<AddmmBackward>) tensor([[0.4033]])\n",
            "tensor([[2.1649]], grad_fn=<AddmmBackward>) tensor([[0.1458]])\n",
            "tensor([[2.0307]], grad_fn=<AddmmBackward>) tensor([[-0.1223]])\n",
            "tensor([[1.8965]], grad_fn=<AddmmBackward>) tensor([[-0.6370]])\n",
            "tensor([[1.7623]], grad_fn=<AddmmBackward>) tensor([[-0.8285]])\n",
            "tensor([[1.6281]], grad_fn=<AddmmBackward>) tensor([[-1.0531]])\n",
            "tensor([[1.4939]], grad_fn=<AddmmBackward>) tensor([[-1.3731]])\n",
            "tensor([[1.3597]], grad_fn=<AddmmBackward>) tensor([[-1.6549]])\n",
            "tensor([[1.2255]], grad_fn=<AddmmBackward>) tensor([[-2.0246]])\n",
            "tensor([[1.0913]], grad_fn=<AddmmBackward>) tensor([[-2.2338]])\n",
            "tensor([[0.9571]], grad_fn=<AddmmBackward>) tensor([[-2.7109]])\n",
            "tensor([[0.8229]], grad_fn=<AddmmBackward>) tensor([[-2.8201]])\n",
            "tensor([[0.6887]], grad_fn=<AddmmBackward>) tensor([[-3.4198]])\n",
            "tensor([[0.5545]], grad_fn=<AddmmBackward>) tensor([[-3.5241]])\n",
            "tensor([[0.4203]], grad_fn=<AddmmBackward>) tensor([[-3.7318]])\n",
            "tensor([[0.2861]], grad_fn=<AddmmBackward>) tensor([[-3.9411]])\n",
            "tensor([[0.1519]], grad_fn=<AddmmBackward>) tensor([[-4.2953]])\n",
            "tensor([[0.0177]], grad_fn=<AddmmBackward>) tensor([[-4.8636]])\n",
            "tensor([[-0.1165]], grad_fn=<AddmmBackward>) tensor([[20.]])\n",
            "tensor([[-0.2507]], grad_fn=<AddmmBackward>) tensor([[20.]])\n",
            "tensor([[-0.3849]], grad_fn=<AddmmBackward>) tensor([[20.]])\n",
            "tensor([[-0.5191]], grad_fn=<AddmmBackward>) tensor([[20.]])\n",
            "tensor([[-0.6533]], grad_fn=<AddmmBackward>) tensor([[20.]])\n",
            "tensor([[-0.7875]], grad_fn=<AddmmBackward>) tensor([[-6.6080]])\n",
            "tensor([[-0.9217]], grad_fn=<AddmmBackward>) tensor([[-6.7196]])\n",
            "tensor([[-1.0559]], grad_fn=<AddmmBackward>) tensor([[-7.1427]])\n",
            "tensor([[-1.1901]], grad_fn=<AddmmBackward>) tensor([[-7.3937]])\n",
            "tensor([[-1.3243]], grad_fn=<AddmmBackward>) tensor([[-7.6875]])\n"
          ],
          "name": "stdout"
        }
      ]
    },
    {
      "cell_type": "markdown",
      "metadata": {
        "id": "Xpiy6REZ3sqq",
        "colab_type": "text"
      },
      "source": [
        "Double-click <b>here</b> for the solution.\n",
        "\n",
        "<!-- \n",
        "for x, y in trainloader:\n",
        "    print(\"yhat= \", good_model(x),\"y\", y)\n",
        "-->"
      ]
    },
    {
      "cell_type": "markdown",
      "metadata": {
        "id": "Qi5W1Dt53sqs",
        "colab_type": "text"
      },
      "source": [
        "<!--Empty Space for separating topics-->"
      ]
    },
    {
      "cell_type": "markdown",
      "metadata": {
        "id": "5sva_HjC3sqz",
        "colab_type": "text"
      },
      "source": [
        "<a href=\"http://cocl.us/pytorch_link_bottom\">\n",
        "    <img src=\"https://s3-api.us-geo.objectstorage.softlayer.net/cf-courses-data/CognitiveClass/DL0110EN/notebook_images%20/notebook_bottom%20.png\" width=\"750\" alt=\"PyTorch Bottom\" />\n",
        "</a>"
      ]
    },
    {
      "cell_type": "markdown",
      "metadata": {
        "id": "XIIDBNU83sq0",
        "colab_type": "text"
      },
      "source": [
        "<h2>About the Authors:</h2> \n",
        "\n",
        "<a href=\"https://www.linkedin.com/in/joseph-s-50398b136/\">Joseph Santarcangelo</a> has a PhD in Electrical Engineering, his research focused on using machine learning, signal processing, and computer vision to determine how videos impact human cognition. Joseph has been working for IBM since he completed his PhD. "
      ]
    },
    {
      "cell_type": "markdown",
      "metadata": {
        "id": "KMuU83zD3sq2",
        "colab_type": "text"
      },
      "source": [
        "Other contributors: <a href=\"https://www.linkedin.com/in/michelleccarey/\">Michelle Carey</a>, <a href=\"www.linkedin.com/in/jiahui-mavis-zhou-a4537814a\">Mavis Zhou</a>"
      ]
    },
    {
      "cell_type": "markdown",
      "metadata": {
        "id": "lbTBwWPJ3sq3",
        "colab_type": "text"
      },
      "source": [
        "<hr>"
      ]
    },
    {
      "cell_type": "markdown",
      "metadata": {
        "id": "Cp0j4XYw3sq5",
        "colab_type": "text"
      },
      "source": [
        "Copyright &copy; 2018 <a href=\"cognitiveclass.ai?utm_source=bducopyrightlink&utm_medium=dswb&utm_campaign=bdu\">cognitiveclass.ai</a>. This notebook and its source code are released under the terms of the <a href=\"https://bigdatauniversity.com/mit-license/\">MIT License</a>."
      ]
    }
  ]
}