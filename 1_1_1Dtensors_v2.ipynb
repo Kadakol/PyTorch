{
  "nbformat": 4,
  "nbformat_minor": 0,
  "metadata": {
    "kernelspec": {
      "display_name": "Python 3",
      "language": "python",
      "name": "python3"
    },
    "language_info": {
      "codemirror_mode": {
        "name": "ipython",
        "version": 3
      },
      "file_extension": ".py",
      "mimetype": "text/x-python",
      "name": "python",
      "nbconvert_exporter": "python",
      "pygments_lexer": "ipython3",
      "version": "3.6.8"
    },
    "colab": {
      "name": "1.1_1Dtensors_v2.ipynb",
      "provenance": [],
      "include_colab_link": true
    }
  },
  "cells": [
    {
      "cell_type": "markdown",
      "metadata": {
        "id": "view-in-github",
        "colab_type": "text"
      },
      "source": [
        "<a href=\"https://colab.research.google.com/github/Kadakol/PyTorch/blob/master/1_1_1Dtensors_v2.ipynb\" target=\"_parent\"><img src=\"https://colab.research.google.com/assets/colab-badge.svg\" alt=\"Open In Colab\"/></a>"
      ]
    },
    {
      "cell_type": "markdown",
      "metadata": {
        "id": "FuzX0fQYa4Qq",
        "colab_type": "text"
      },
      "source": [
        "<a href=\"http://cocl.us/pytorch_link_top\">\n",
        "    <img src=\"https://s3-api.us-geo.objectstorage.softlayer.net/cf-courses-data/CognitiveClass/DL0110EN/notebook_images%20/Pytochtop.png\" width=\"750\" alt=\"IBM Product \" />\n",
        "</a> "
      ]
    },
    {
      "cell_type": "markdown",
      "metadata": {
        "id": "IV1pieewa4Qs",
        "colab_type": "text"
      },
      "source": [
        "<img src=\"https://s3-api.us-geo.objectstorage.softlayer.net/cf-courses-data/CognitiveClass/DL0110EN/notebook_images%20/cc-logo-square.png\" width=\"200\" alt=\"cognitiveclass.ai logo\" />"
      ]
    },
    {
      "cell_type": "markdown",
      "metadata": {
        "id": "PJB8SqW2a4Qz",
        "colab_type": "text"
      },
      "source": [
        "<h1>Torch Tensors in 1D</h1>"
      ]
    },
    {
      "cell_type": "markdown",
      "metadata": {
        "id": "9ndrJWk1a4Q1",
        "colab_type": "text"
      },
      "source": [
        "<h2>Table of Contents</h2>"
      ]
    },
    {
      "cell_type": "markdown",
      "metadata": {
        "id": "N251b72Ka4Q7",
        "colab_type": "text"
      },
      "source": [
        "<p>In this lab, you will learn the basics of tensor operations. Tensors are an essential part of PyTorch; there are complex mathematical objects in and of themselves. Fortunately, most of the intricacies are not necessary. In this section, you will compare them to vectors and numpy arrays.</p>\n",
        "<ul>\n",
        "    <li><a href=\"#Types_Shape\">Types and Shape</a></li>\n",
        "    <li><a href=\"#Index_Slice\">Indexing and Slicing</a></li>\n",
        "    <li><a href=\"#Tensor_Func\">Tensor Functions</a></li>\n",
        "    <li><a href=\"#Tensor_Op\">Tensor Operations</a></li>\n",
        "    <li><a href=\"#Device_Op\">Device_Op Operations</a></li>\n",
        "</ul>\n",
        "\n",
        "<p>Estimated Time Needed: <b>25 min</b></p>\n",
        "<hr>"
      ]
    },
    {
      "cell_type": "markdown",
      "metadata": {
        "id": "eblOyJ-Wa4Q-",
        "colab_type": "text"
      },
      "source": [
        "<h2>Preparation</h2>"
      ]
    },
    {
      "cell_type": "markdown",
      "metadata": {
        "id": "YgaoOQBKa4RB",
        "colab_type": "text"
      },
      "source": [
        "Import the following libraries that you'll use for this lab:"
      ]
    },
    {
      "cell_type": "code",
      "metadata": {
        "id": "TUHXp4YNa4RC",
        "colab_type": "code",
        "colab": {}
      },
      "source": [
        "# These are the libraries will be used for this lab.\n",
        "\n",
        "import torch \n",
        "import numpy as np \n",
        "import pandas as pd\n",
        "\n",
        "import matplotlib.pyplot as plt\n",
        "%matplotlib inline  "
      ],
      "execution_count": 0,
      "outputs": []
    },
    {
      "cell_type": "markdown",
      "metadata": {
        "id": "cx0jz2Eoa4RO",
        "colab_type": "text"
      },
      "source": [
        "Check PyTorch version:"
      ]
    },
    {
      "cell_type": "code",
      "metadata": {
        "id": "Hxw58zB5a4RQ",
        "colab_type": "code",
        "colab": {
          "base_uri": "https://localhost:8080/",
          "height": 34
        },
        "outputId": "6b86e462-df97-484e-e0bd-b37ab65a05ce"
      },
      "source": [
        "torch.__version__"
      ],
      "execution_count": 2,
      "outputs": [
        {
          "output_type": "execute_result",
          "data": {
            "text/plain": [
              "'1.4.0'"
            ]
          },
          "metadata": {
            "tags": []
          },
          "execution_count": 2
        }
      ]
    },
    {
      "cell_type": "markdown",
      "metadata": {
        "id": "u_vi5Pt5a4Rb",
        "colab_type": "text"
      },
      "source": [
        "This is the function for plotting diagrams. You will use this function to plot the vectors in Coordinate system."
      ]
    },
    {
      "cell_type": "code",
      "metadata": {
        "id": "1dlondnda4Rc",
        "colab_type": "code",
        "colab": {}
      },
      "source": [
        "# Plot vecotrs, please keep the parameters in the same length\n",
        "# @param: Vectors = [{\"vector\": vector variable, \"name\": name of vector, \"color\": color of the vector on diagram}]\n",
        "\n",
        "def plotVec(vectors):\n",
        "    ax = plt.axes()\n",
        "    \n",
        "    # For loop to draw the vectors\n",
        "    for vec in vectors:\n",
        "        ax.arrow(0, 0, *vec[\"vector\"], head_width = 0.05,color = vec[\"color\"], head_length = 0.1)\n",
        "        plt.text(*(vec[\"vector\"] + 0.1), vec[\"name\"])\n",
        "    \n",
        "    plt.ylim(-2,2)\n",
        "    plt.xlim(-2,2)"
      ],
      "execution_count": 0,
      "outputs": []
    },
    {
      "cell_type": "markdown",
      "metadata": {
        "id": "oMGr3FdXa4Rj",
        "colab_type": "text"
      },
      "source": [
        "<!--Empty Space for separating topics-->"
      ]
    },
    {
      "cell_type": "markdown",
      "metadata": {
        "id": "FFacqDWxa4Rk",
        "colab_type": "text"
      },
      "source": [
        "<h2 id=\"Types_Shape\">Types and Shape</h2>"
      ]
    },
    {
      "cell_type": "markdown",
      "metadata": {
        "id": "fa8IECUja4Rm",
        "colab_type": "text"
      },
      "source": [
        "You can find the type of the following list of integers <i>[0, 1, 2, 3, 4]</i> by applying the constructor <code>torch.tensor()</code>:"
      ]
    },
    {
      "cell_type": "code",
      "metadata": {
        "id": "TKm4FakPa4Ro",
        "colab_type": "code",
        "colab": {
          "base_uri": "https://localhost:8080/",
          "height": 51
        },
        "outputId": "6cd0d560-ebd4-4632-b93a-20e8c6187499"
      },
      "source": [
        "# Convert a integer list with length 5 to a tensor\n",
        "\n",
        "ints_to_tensor = torch.tensor([0, 1, 2, 3, 4])\n",
        "print(\"The dtype of tensor object after converting it to tensor: \", ints_to_tensor.dtype)\n",
        "print(\"The type of tensor object after converting it to tensor: \", ints_to_tensor.type())"
      ],
      "execution_count": 7,
      "outputs": [
        {
          "output_type": "stream",
          "text": [
            "The dtype of tensor object after converting it to tensor:  torch.int64\n",
            "The type of tensor object after converting it to tensor:  torch.LongTensor\n"
          ],
          "name": "stdout"
        }
      ]
    },
    {
      "cell_type": "markdown",
      "metadata": {
        "id": "Y_3SJgVRa4Se",
        "colab_type": "text"
      },
      "source": [
        "As a result, the integer list has been converted to a long tensor."
      ]
    },
    {
      "cell_type": "markdown",
      "metadata": {
        "id": "JMaixpPga4Sg",
        "colab_type": "text"
      },
      "source": [
        "The Python type is still <code>torch.Tensor</code>:"
      ]
    },
    {
      "cell_type": "code",
      "metadata": {
        "id": "owje_1wYa4Si",
        "colab_type": "code",
        "colab": {
          "base_uri": "https://localhost:8080/",
          "height": 34
        },
        "outputId": "052345a9-7c71-4cf8-87a5-1a49aa1b2105"
      },
      "source": [
        "type(ints_to_tensor)"
      ],
      "execution_count": 8,
      "outputs": [
        {
          "output_type": "execute_result",
          "data": {
            "text/plain": [
              "torch.Tensor"
            ]
          },
          "metadata": {
            "tags": []
          },
          "execution_count": 8
        }
      ]
    },
    {
      "cell_type": "markdown",
      "metadata": {
        "id": "e-qm_2vCa4Sp",
        "colab_type": "text"
      },
      "source": [
        "<!--Empty Space for separate topics-->"
      ]
    },
    {
      "cell_type": "markdown",
      "metadata": {
        "id": "KtMIULH8a4Sr",
        "colab_type": "text"
      },
      "source": [
        "You can find the type of this float list <i>[0.0, 1.0, 2.0, 3.0, 4.0]</i> by applying the method <code>torch.tensor()</code>:"
      ]
    },
    {
      "cell_type": "code",
      "metadata": {
        "id": "_IqhNd8Ja4Ss",
        "colab_type": "code",
        "colab": {
          "base_uri": "https://localhost:8080/",
          "height": 51
        },
        "outputId": "62ec008e-97a2-4950-ab86-6d9380dfb454"
      },
      "source": [
        "# Convert a float list with length 5 to a tensor\n",
        "\n",
        "floats_to_tensor = torch.tensor([0.0, 1.0, 2.0, 3.0, 4.0])\n",
        "print(\"The dtype of tensor object after converting it to tensor: \", floats_to_tensor.dtype)\n",
        "print(\"The type of tensor object after converting it to tensor: \", floats_to_tensor.type())"
      ],
      "execution_count": 9,
      "outputs": [
        {
          "output_type": "stream",
          "text": [
            "The dtype of tensor object after converting it to tensor:  torch.float32\n",
            "The type of tensor object after converting it to tensor:  torch.FloatTensor\n"
          ],
          "name": "stdout"
        }
      ]
    },
    {
      "cell_type": "markdown",
      "metadata": {
        "id": "b_MdMlara4Sz",
        "colab_type": "text"
      },
      "source": [
        "The float list is converted to a float tensor."
      ]
    },
    {
      "cell_type": "code",
      "metadata": {
        "id": "rp9HsvIpa4S0",
        "colab_type": "code",
        "colab": {}
      },
      "source": [
        "list_floats=[0.0, 1.0, 2.0, 3.0, 4.0]\n",
        "\n",
        "floats_int_tensor=torch.tensor(list_floats,dtype=torch.int64)"
      ],
      "execution_count": 0,
      "outputs": []
    },
    {
      "cell_type": "code",
      "metadata": {
        "id": "jnMk_nCIa4TB",
        "colab_type": "code",
        "colab": {
          "base_uri": "https://localhost:8080/",
          "height": 51
        },
        "outputId": "daeab3de-ab6e-49b0-d1a9-f4475c84843b"
      },
      "source": [
        "print(\"The dtype of tensor object is: \", floats_int_tensor.dtype)\n",
        "print(\"The type of tensor object is: \", floats_int_tensor.type())"
      ],
      "execution_count": 11,
      "outputs": [
        {
          "output_type": "stream",
          "text": [
            "The dtype of tensor object is:  torch.int64\n",
            "The type of tensor object is:  torch.LongTensor\n"
          ],
          "name": "stdout"
        }
      ]
    },
    {
      "cell_type": "markdown",
      "metadata": {
        "id": "r8nz8ez_a4Tb",
        "colab_type": "text"
      },
      "source": [
        "<b>Note: The elements in the list that will be converted to tensor must have the same type.</b>"
      ]
    },
    {
      "cell_type": "markdown",
      "metadata": {
        "id": "P1dMamMna4Tc",
        "colab_type": "text"
      },
      "source": [
        "<!--Empty Space for separating topics-->"
      ]
    },
    {
      "cell_type": "markdown",
      "metadata": {
        "id": "VN-s3fUma4Td",
        "colab_type": "text"
      },
      "source": [
        "From the previous examples, you see that <code>torch.tensor()</code> converts the list to the tensor type, which is similar to the original list type. However, what if you want to convert the list to a certain tensor type? <code>torch</code> contains the methods required to do this conversion. The following code  converts an integer list to float tensor:"
      ]
    },
    {
      "cell_type": "code",
      "metadata": {
        "id": "AUWw_J_ja4Tg",
        "colab_type": "code",
        "colab": {
          "base_uri": "https://localhost:8080/",
          "height": 34
        },
        "outputId": "502cb1c6-08a2-4425-ca32-1706381b10db"
      },
      "source": [
        "# Convert a integer list with length 5 to float tensor\n",
        "\n",
        "new_float_tensor = torch.FloatTensor([0, 1, 2, 3, 4])\n",
        "new_float_tensor.type()\n",
        "print(\"The type of the new_float_tensor:\", new_float_tensor.type())"
      ],
      "execution_count": 12,
      "outputs": [
        {
          "output_type": "stream",
          "text": [
            "The type of the new_float_tensor: torch.FloatTensor\n"
          ],
          "name": "stdout"
        }
      ]
    },
    {
      "cell_type": "code",
      "metadata": {
        "id": "7wXAL92Wa4Tm",
        "colab_type": "code",
        "colab": {}
      },
      "source": [
        "new_float_tensor = torch.FloatTensor([0, 1, 2, 3, 4])"
      ],
      "execution_count": 0,
      "outputs": []
    },
    {
      "cell_type": "markdown",
      "metadata": {
        "id": "S7zpOauwa4Tt",
        "colab_type": "text"
      },
      "source": [
        "<!--Empty Space for separating topics-->"
      ]
    },
    {
      "cell_type": "markdown",
      "metadata": {
        "id": "3G8MQ1Oca4Tv",
        "colab_type": "text"
      },
      "source": [
        "You can also convert an existing tensor object (<code><i>tensor_obj</i></code>) to another tensor type. Convert the integer tensor to a float tensor:"
      ]
    },
    {
      "cell_type": "code",
      "metadata": {
        "id": "WpWc7-eka4Tx",
        "colab_type": "code",
        "colab": {
          "base_uri": "https://localhost:8080/",
          "height": 34
        },
        "outputId": "8de84835-63aa-4ddd-8acd-da77be503898"
      },
      "source": [
        "# Another method to convert the integer list to float tensor\n",
        "\n",
        "old_int_tensor = torch.tensor([0, 1, 2, 3, 4])\n",
        "new_float_tensor = old_int_tensor.type(torch.FloatTensor)\n",
        "print(\"The type of the new_float_tensor:\", new_float_tensor.type())"
      ],
      "execution_count": 14,
      "outputs": [
        {
          "output_type": "stream",
          "text": [
            "The type of the new_float_tensor: torch.FloatTensor\n"
          ],
          "name": "stdout"
        }
      ]
    },
    {
      "cell_type": "markdown",
      "metadata": {
        "id": "DHBDPG3oa4T5",
        "colab_type": "text"
      },
      "source": [
        "<!--Empty Space for separating topics-->"
      ]
    },
    {
      "cell_type": "markdown",
      "metadata": {
        "id": "JWu8qrY8a4T6",
        "colab_type": "text"
      },
      "source": [
        "The <code><i>tensor_obj</i>.size()</code> helps you to find out the size of the <code><i>tensor_obj</i></code>.\n",
        "The <code><i>tensor_obj</i>.ndimension()</code> shows the dimension of the tensor object."
      ]
    },
    {
      "cell_type": "code",
      "metadata": {
        "id": "EXW40SrEa4T-",
        "colab_type": "code",
        "colab": {
          "base_uri": "https://localhost:8080/",
          "height": 51
        },
        "outputId": "9f067529-c00f-47f3-e19b-4e1a5a8dbbdf"
      },
      "source": [
        "# Introduce the tensor_obj.size() & tensor_ndimension.size() methods\n",
        "\n",
        "print(\"The size of the new_float_tensor: \", new_float_tensor.size())\n",
        "print(\"The dimension of the new_float_tensor: \",new_float_tensor.ndimension())"
      ],
      "execution_count": 15,
      "outputs": [
        {
          "output_type": "stream",
          "text": [
            "The size of the new_float_tensor:  torch.Size([5])\n",
            "The dimension of the new_float_tensor:  1\n"
          ],
          "name": "stdout"
        }
      ]
    },
    {
      "cell_type": "markdown",
      "metadata": {
        "id": "1Z4A1qkAa4UF",
        "colab_type": "text"
      },
      "source": [
        "<!--Empty Space for separating topics-->"
      ]
    },
    {
      "cell_type": "markdown",
      "metadata": {
        "id": "7Sz0AbGoa4UG",
        "colab_type": "text"
      },
      "source": [
        "The <code><i>tensor_obj</i>.view(<i>row, column</i>)</code> is used for reshaping a tensor object.<br>"
      ]
    },
    {
      "cell_type": "markdown",
      "metadata": {
        "id": "YmORkMh4a4UJ",
        "colab_type": "text"
      },
      "source": [
        "What if you have a tensor object with <code>torch.Size([5])</code> as a <code>new_float_tensor</code> as shown in the previous example?<br>\n",
        "After you execute <code>new_float_tensor.view(5, 1)</code>, the size of <code>new_float_tensor</code> will be <code>torch.Size([5, 1])</code>.<br>\n",
        "This means that the tensor object <code>new_float_tensor</code> has been reshaped from a one-dimensional  tensor object with 5 elements to a two-dimensional tensor object with 5 rows and 1 column."
      ]
    },
    {
      "cell_type": "code",
      "metadata": {
        "id": "SQ8B7yzWa4UK",
        "colab_type": "code",
        "colab": {
          "base_uri": "https://localhost:8080/",
          "height": 119
        },
        "outputId": "a9c372e7-185b-455d-c6a3-647935ef2b46"
      },
      "source": [
        "# Introduce the tensor_obj.view(row, column) method\n",
        "\n",
        "twoD_float_tensor = new_float_tensor.view(5, 1)\n",
        "print(\"Original Size: \", new_float_tensor)\n",
        "print(\"Size after view method\", twoD_float_tensor)"
      ],
      "execution_count": 16,
      "outputs": [
        {
          "output_type": "stream",
          "text": [
            "Original Size:  tensor([0., 1., 2., 3., 4.])\n",
            "Size after view method tensor([[0.],\n",
            "        [1.],\n",
            "        [2.],\n",
            "        [3.],\n",
            "        [4.]])\n"
          ],
          "name": "stdout"
        }
      ]
    },
    {
      "cell_type": "markdown",
      "metadata": {
        "id": "VALBDgmna4UZ",
        "colab_type": "text"
      },
      "source": [
        "Note that the original size is 5. The tensor after reshaping becomes a 5X1 tensor analog to a column vector."
      ]
    },
    {
      "cell_type": "markdown",
      "metadata": {
        "id": "qqPrXccXa4Ua",
        "colab_type": "text"
      },
      "source": [
        "<b>Note: The number of elements in a tensor must remain constant after applying view.</b>"
      ]
    },
    {
      "cell_type": "markdown",
      "metadata": {
        "id": "usGept2ea4Ub",
        "colab_type": "text"
      },
      "source": [
        "<!--Empty Space for separating topics-->"
      ]
    },
    {
      "cell_type": "markdown",
      "metadata": {
        "id": "7S2gNQPPa4Uc",
        "colab_type": "text"
      },
      "source": [
        "What if you have a tensor with dynamic size but you want to reshape it? You can use <b>-1</b> to do just that."
      ]
    },
    {
      "cell_type": "code",
      "metadata": {
        "id": "nIA2zRHEa4Ud",
        "colab_type": "code",
        "colab": {
          "base_uri": "https://localhost:8080/",
          "height": 119
        },
        "outputId": "5118c891-684d-4b28-e867-7b7df0ab834b"
      },
      "source": [
        "# Introduce the use of -1 in tensor_obj.view(row, column) method\n",
        "\n",
        "twoD_float_tensor = new_float_tensor.view(-1, 1)\n",
        "print(\"Original Size: \", new_float_tensor)\n",
        "print(\"Size after view method\", twoD_float_tensor)"
      ],
      "execution_count": 17,
      "outputs": [
        {
          "output_type": "stream",
          "text": [
            "Original Size:  tensor([0., 1., 2., 3., 4.])\n",
            "Size after view method tensor([[0.],\n",
            "        [1.],\n",
            "        [2.],\n",
            "        [3.],\n",
            "        [4.]])\n"
          ],
          "name": "stdout"
        }
      ]
    },
    {
      "cell_type": "markdown",
      "metadata": {
        "id": "hglKZ3gEa4Ul",
        "colab_type": "text"
      },
      "source": [
        "You get the same result as the previous example. The <b>-1</b> can represent any size. However, be careful because you can set only one argument as <b>-1</b>."
      ]
    },
    {
      "cell_type": "markdown",
      "metadata": {
        "id": "NayLSW_Ga4Up",
        "colab_type": "text"
      },
      "source": [
        "<!--Empty Space for separating topics-->"
      ]
    },
    {
      "cell_type": "markdown",
      "metadata": {
        "id": "NJqINaU4a4Uq",
        "colab_type": "text"
      },
      "source": [
        "You can also convert a <b>numpy</b> array to a <b>tensor</b>, for example: "
      ]
    },
    {
      "cell_type": "code",
      "metadata": {
        "id": "NzKeV0nUa4Ur",
        "colab_type": "code",
        "colab": {
          "base_uri": "https://localhost:8080/",
          "height": 51
        },
        "outputId": "7c92b210-72b9-439c-d5bd-b131c16da62c"
      },
      "source": [
        "# Convert a numpy array to a tensor\n",
        "\n",
        "numpy_array = np.array([0.0, 1.0, 2.0, 3.0, 4.0])\n",
        "new_tensor = torch.from_numpy(numpy_array)\n",
        "\n",
        "print(\"The dtype of new tensor: \", new_tensor.dtype)\n",
        "print(\"The type of new tensor: \", new_tensor.type())"
      ],
      "execution_count": 18,
      "outputs": [
        {
          "output_type": "stream",
          "text": [
            "The dtype of new tensor:  torch.float64\n",
            "The type of new tensor:  torch.DoubleTensor\n"
          ],
          "name": "stdout"
        }
      ]
    },
    {
      "cell_type": "markdown",
      "metadata": {
        "id": "1gwOJhYua4U9",
        "colab_type": "text"
      },
      "source": [
        "<!--Empty Space for separating topics-->"
      ]
    },
    {
      "cell_type": "markdown",
      "metadata": {
        "id": "paJ1ZC13a4U-",
        "colab_type": "text"
      },
      "source": [
        "Converting a <b>tensor</b> to a <b>numpy</b> is also supported in PyTorch. The syntax is shown below:"
      ]
    },
    {
      "cell_type": "code",
      "metadata": {
        "id": "y_R_IEoza4VA",
        "colab_type": "code",
        "colab": {
          "base_uri": "https://localhost:8080/",
          "height": 51
        },
        "outputId": "a501441a-53c2-4be8-8b0e-80c9592f8923"
      },
      "source": [
        "# Convert a tensor to a numpy array\n",
        "\n",
        "back_to_numpy = new_tensor.numpy()\n",
        "print(\"The numpy array from tensor: \", back_to_numpy)\n",
        "print(\"The dtype of numpy array: \", back_to_numpy.dtype)"
      ],
      "execution_count": 19,
      "outputs": [
        {
          "output_type": "stream",
          "text": [
            "The numpy array from tensor:  [0. 1. 2. 3. 4.]\n",
            "The dtype of numpy array:  float64\n"
          ],
          "name": "stdout"
        }
      ]
    },
    {
      "cell_type": "markdown",
      "metadata": {
        "id": "Hwicwyl_a4VH",
        "colab_type": "text"
      },
      "source": [
        "<code>back_to_numpy</code> and <code>new_tensor</code> still point to <code>numpy_array</code>. As a result if we change <code>numpy_array</code> both <code>back_to_numpy</code> and <code>new_tensor</code> will change. For example if we set all the elements in <code>numpy_array</code> to zeros, <code>back_to_numpy</code> and <code> new_tensor</code> will follow suit."
      ]
    },
    {
      "cell_type": "code",
      "metadata": {
        "id": "Mr5WyeeGa4VI",
        "colab_type": "code",
        "colab": {
          "base_uri": "https://localhost:8080/",
          "height": 51
        },
        "outputId": "91c44f2f-97aa-4d5e-dd4e-4ab6f20d0727"
      },
      "source": [
        "# Set all elements in numpy array to zero \n",
        "numpy_array[:] = 0\n",
        "print(\"The new tensor points to numpy_array : \", new_tensor)\n",
        "print(\"and back to numpy array points to the tensor: \", back_to_numpy)"
      ],
      "execution_count": 20,
      "outputs": [
        {
          "output_type": "stream",
          "text": [
            "The new tensor points to numpy_array :  tensor([0., 0., 0., 0., 0.], dtype=torch.float64)\n",
            "and back to numpy array points to the tensor:  [0. 0. 0. 0. 0.]\n"
          ],
          "name": "stdout"
        }
      ]
    },
    {
      "cell_type": "markdown",
      "metadata": {
        "id": "gKKxQIIOa4Ve",
        "colab_type": "text"
      },
      "source": [
        "<!--Empty Space for separating topics-->"
      ]
    },
    {
      "cell_type": "markdown",
      "metadata": {
        "id": "seBecFqya4Vf",
        "colab_type": "text"
      },
      "source": [
        "<b>Pandas Series</b> can also be converted by using the numpy array that is stored in <code>pandas_series.values</code>. Note that <code>pandas_series</code> can be any pandas_series object. "
      ]
    },
    {
      "cell_type": "code",
      "metadata": {
        "id": "SNbvnNFEa4Vh",
        "colab_type": "code",
        "colab": {
          "base_uri": "https://localhost:8080/",
          "height": 68
        },
        "outputId": "3827ec59-64ed-4e36-fb90-eba7cf3fdd0b"
      },
      "source": [
        "# Convert a panda series to a tensor\n",
        "\n",
        "pandas_series=pd.Series([0.1, 2, 0.3, 10.1])\n",
        "new_tensor=torch.from_numpy(pandas_series.values)\n",
        "print(\"The new tensor from numpy array: \", new_tensor)\n",
        "print(\"The dtype of new tensor: \", new_tensor.dtype)\n",
        "print(\"The type of new tensor: \", new_tensor.type())"
      ],
      "execution_count": 21,
      "outputs": [
        {
          "output_type": "stream",
          "text": [
            "The new tensor from numpy array:  tensor([ 0.1000,  2.0000,  0.3000, 10.1000], dtype=torch.float64)\n",
            "The dtype of new tensor:  torch.float64\n",
            "The type of new tensor:  torch.DoubleTensor\n"
          ],
          "name": "stdout"
        }
      ]
    },
    {
      "cell_type": "markdown",
      "metadata": {
        "id": "tI1dD7jea4Vq",
        "colab_type": "text"
      },
      "source": [
        "consider the following tensor "
      ]
    },
    {
      "cell_type": "code",
      "metadata": {
        "id": "v3TGEcola4Vs",
        "colab_type": "code",
        "colab": {}
      },
      "source": [
        "this_tensor=torch.tensor([0,1, 2,3]) "
      ],
      "execution_count": 0,
      "outputs": []
    },
    {
      "cell_type": "markdown",
      "metadata": {
        "id": "vv0xo8QDa4WZ",
        "colab_type": "text"
      },
      "source": [
        "The method <code>item()</code> returns the value of this tensor as a standard Python number. This only works for one element. "
      ]
    },
    {
      "cell_type": "code",
      "metadata": {
        "id": "zcO5pefaa4Wb",
        "colab_type": "code",
        "colab": {
          "base_uri": "https://localhost:8080/",
          "height": 68
        },
        "outputId": "16b0e3ed-9fac-46ef-b6e3-eb436209175d"
      },
      "source": [
        "this_tensor=torch.tensor([0,1, 2,3]) \n",
        "\n",
        "print(\"the first item is given by\",this_tensor[0].item(),\"the first tensor value is given by \",this_tensor[0])\n",
        "print(\"the second item is given by\",this_tensor[1].item(),\"the second tensor value is given by \",this_tensor[1])\n",
        "print(\"the third  item is given by\",this_tensor[2].item(),\"the third tensor value is given by \",this_tensor[2])"
      ],
      "execution_count": 23,
      "outputs": [
        {
          "output_type": "stream",
          "text": [
            "the first item is given by 0 the first tensor value is given by  tensor(0)\n",
            "the second item is given by 1 the second tensor value is given by  tensor(1)\n",
            "the third  item is given by 2 the third tensor value is given by  tensor(2)\n"
          ],
          "name": "stdout"
        }
      ]
    },
    {
      "cell_type": "markdown",
      "metadata": {
        "id": "pKao_8Qea4Wh",
        "colab_type": "text"
      },
      "source": [
        "we can use the method <code> tolist()</code> to return a list "
      ]
    },
    {
      "cell_type": "code",
      "metadata": {
        "id": "_C4DOhSfa4Wi",
        "colab_type": "code",
        "colab": {
          "base_uri": "https://localhost:8080/",
          "height": 51
        },
        "outputId": "f1d13961-e53e-4469-8c6b-c38a5222285f"
      },
      "source": [
        "torch_to_list=this_tensor.tolist()\n",
        "\n",
        "print('tensor:', this_tensor,\"\\nlist:\",torch_to_list)"
      ],
      "execution_count": 24,
      "outputs": [
        {
          "output_type": "stream",
          "text": [
            "tensor: tensor([0, 1, 2, 3]) \n",
            "list: [0, 1, 2, 3]\n"
          ],
          "name": "stdout"
        }
      ]
    },
    {
      "cell_type": "markdown",
      "metadata": {
        "id": "H8Uc43lOa4Ws",
        "colab_type": "text"
      },
      "source": [
        "<!--Empty Space for separating topics-->"
      ]
    },
    {
      "cell_type": "markdown",
      "metadata": {
        "id": "nqauUw8ma4Wt",
        "colab_type": "text"
      },
      "source": [
        "<h3>Practice</h3>"
      ]
    },
    {
      "cell_type": "markdown",
      "metadata": {
        "id": "CeDVAGIha4Wv",
        "colab_type": "text"
      },
      "source": [
        "Try to convert <code>your_tensor</code> to a 1X5 tensor."
      ]
    },
    {
      "cell_type": "code",
      "metadata": {
        "id": "SR16Bnrga4Xj",
        "colab_type": "code",
        "colab": {
          "base_uri": "https://localhost:8080/",
          "height": 34
        },
        "outputId": "b2a5a9ee-3e7c-4d29-901b-36b6e5834d27"
      },
      "source": [
        "# Practice: convert the following tensor to a tensor object with 1 row and 5 columns\n",
        "\n",
        "your_tensor = torch.tensor([1, 2, 3, 4, 5])\n",
        "\n",
        "row_tensor = your_tensor.view(1, 5)\n",
        "print(row_tensor)"
      ],
      "execution_count": 28,
      "outputs": [
        {
          "output_type": "stream",
          "text": [
            "tensor([[1, 2, 3, 4, 5]])\n"
          ],
          "name": "stdout"
        }
      ]
    },
    {
      "cell_type": "markdown",
      "metadata": {
        "id": "jU5yurgia4Xs",
        "colab_type": "text"
      },
      "source": [
        "Double-click <b>here</b> for the solution.\n",
        "<!-- \n",
        "your_new_tensor = your_tensor.view(1, 5)\n",
        "print(\"Original Size: \", your_tensor)\n",
        "print(\"Size after view method\", your_new_tensor)\n",
        "-->"
      ]
    },
    {
      "cell_type": "markdown",
      "metadata": {
        "id": "i5IEPCdta4Xu",
        "colab_type": "text"
      },
      "source": [
        "<!--Empty Space for separating topics-->"
      ]
    },
    {
      "cell_type": "markdown",
      "metadata": {
        "id": "c7GT5jS6a4Xv",
        "colab_type": "text"
      },
      "source": [
        "<h2 id=\"Index_Slice\">Indexing and Slicing</h2>"
      ]
    },
    {
      "cell_type": "markdown",
      "metadata": {
        "id": "mnSM1o4ha4Xw",
        "colab_type": "text"
      },
      "source": [
        "In Python, <b>the index starts with 0</b>. Therefore, the last index will always be 1 less than the length of the tensor object.\n",
        "You can access the value on a certain index by using the square bracket, for example:"
      ]
    },
    {
      "cell_type": "code",
      "metadata": {
        "id": "jRd2lJEWa4Xy",
        "colab_type": "code",
        "colab": {
          "base_uri": "https://localhost:8080/",
          "height": 102
        },
        "outputId": "b1c51659-21de-4e30-9f1c-5ac830c24245"
      },
      "source": [
        "# A tensor for showing how the indexs work on tensors\n",
        "\n",
        "index_tensor = torch.tensor([0, 1, 2, 3, 4])\n",
        "print(\"The value on index 0:\",index_tensor[0])\n",
        "print(\"The value on index 1:\",index_tensor[1])\n",
        "print(\"The value on index 2:\",index_tensor[2])\n",
        "print(\"The value on index 3:\",index_tensor[3])\n",
        "print(\"The value on index 4:\",index_tensor[4])"
      ],
      "execution_count": 29,
      "outputs": [
        {
          "output_type": "stream",
          "text": [
            "The value on index 0: tensor(0)\n",
            "The value on index 1: tensor(1)\n",
            "The value on index 2: tensor(2)\n",
            "The value on index 3: tensor(3)\n",
            "The value on index 4: tensor(4)\n"
          ],
          "name": "stdout"
        }
      ]
    },
    {
      "cell_type": "markdown",
      "metadata": {
        "id": "QpZn2BlRa4X8",
        "colab_type": "text"
      },
      "source": [
        "<b>Note that the <code>index_tensor[5]</code> will create an error.</b>"
      ]
    },
    {
      "cell_type": "markdown",
      "metadata": {
        "id": "PndEqJJVa4X9",
        "colab_type": "text"
      },
      "source": [
        "<!--Empty Space for separating topics-->"
      ]
    },
    {
      "cell_type": "markdown",
      "metadata": {
        "id": "Ki_yKccEa4X-",
        "colab_type": "text"
      },
      "source": [
        "The index is shown in the following figure: "
      ]
    },
    {
      "cell_type": "markdown",
      "metadata": {
        "id": "25cSfZHfa4X_",
        "colab_type": "text"
      },
      "source": [
        "<img src=\"https://s3-api.us-geo.objectstorage.softlayer.net/cf-courses-data/CognitiveClass/DL0110EN/notebook_images%20/chapter%201/idex_1.png\" width=\"500\" alt=\"Python Index\" />"
      ]
    },
    {
      "cell_type": "markdown",
      "metadata": {
        "id": "0IkMkyeNa4YA",
        "colab_type": "text"
      },
      "source": [
        "<!--Empty Space for separating topics-->"
      ]
    },
    {
      "cell_type": "markdown",
      "metadata": {
        "id": "XW4Cw4HRa4YD",
        "colab_type": "text"
      },
      "source": [
        "Now, you'll see how to change the values on certain indexes."
      ]
    },
    {
      "cell_type": "markdown",
      "metadata": {
        "id": "MU-YOUx1a4YE",
        "colab_type": "text"
      },
      "source": [
        "Suppose you have a tensor as shown here: "
      ]
    },
    {
      "cell_type": "code",
      "metadata": {
        "id": "nPCfhS0Xa4YF",
        "colab_type": "code",
        "colab": {}
      },
      "source": [
        "# A tensor for showing how to change value according to the index\n",
        "\n",
        "tensor_sample = torch.tensor([20, 1, 2, 3, 4])"
      ],
      "execution_count": 0,
      "outputs": []
    },
    {
      "cell_type": "markdown",
      "metadata": {
        "id": "ygNZNHmMa4YM",
        "colab_type": "text"
      },
      "source": [
        "Assign the value on index 0 as 100:"
      ]
    },
    {
      "cell_type": "code",
      "metadata": {
        "id": "wqy-uOeca4YR",
        "colab_type": "code",
        "colab": {
          "base_uri": "https://localhost:8080/",
          "height": 51
        },
        "outputId": "c4f29a3c-4079-40f3-c957-6f61bbe0e883"
      },
      "source": [
        "# Change the value on the index 0 to 100\n",
        "\n",
        "print(\"Inital value on index 0:\", tensor_sample[0])\n",
        "tensor_sample[0] = 100\n",
        "print(\"Modified tensor:\", tensor_sample)"
      ],
      "execution_count": 31,
      "outputs": [
        {
          "output_type": "stream",
          "text": [
            "Inital value on index 0: tensor(20)\n",
            "Modified tensor: tensor([100,   1,   2,   3,   4])\n"
          ],
          "name": "stdout"
        }
      ]
    },
    {
      "cell_type": "markdown",
      "metadata": {
        "id": "0S5FPABNa4Yg",
        "colab_type": "text"
      },
      "source": [
        "As you can see, the value on index 0 changes. Change the value on index 4 to 0:"
      ]
    },
    {
      "cell_type": "code",
      "metadata": {
        "id": "13iMRCn8a4Yh",
        "colab_type": "code",
        "colab": {
          "base_uri": "https://localhost:8080/",
          "height": 51
        },
        "outputId": "7542fa7d-49fd-45a1-fcb2-e9dbb1e30aa8"
      },
      "source": [
        "# Change the value on the index 4 to 0\n",
        "\n",
        "print(\"Inital value on index 4:\", tensor_sample[4])\n",
        "tensor_sample[4] = 0\n",
        "print(\"Modified tensor:\", tensor_sample)"
      ],
      "execution_count": 32,
      "outputs": [
        {
          "output_type": "stream",
          "text": [
            "Inital value on index 4: tensor(4)\n",
            "Modified tensor: tensor([100,   1,   2,   3,   0])\n"
          ],
          "name": "stdout"
        }
      ]
    },
    {
      "cell_type": "markdown",
      "metadata": {
        "id": "B5EFYjK6a4Yp",
        "colab_type": "text"
      },
      "source": [
        "The value on index 4 turns to 0."
      ]
    },
    {
      "cell_type": "markdown",
      "metadata": {
        "id": "VQ-XRuIGa4Yq",
        "colab_type": "text"
      },
      "source": [
        "<!--Empty Space for separating topics-->"
      ]
    },
    {
      "cell_type": "markdown",
      "metadata": {
        "id": "BpVJcENZa4Yt",
        "colab_type": "text"
      },
      "source": [
        "If you are familiar with Python, you know that there is a feature called slicing on a list. Tensors support the same feature. "
      ]
    },
    {
      "cell_type": "markdown",
      "metadata": {
        "id": "Ab0FbFpha4Y3",
        "colab_type": "text"
      },
      "source": [
        "Get the subset of <code>tensor_sample</code>. The subset should contain the values in <code>tensor_sample</code> from index 1 to index 3."
      ]
    },
    {
      "cell_type": "code",
      "metadata": {
        "id": "72QU37yva4Y4",
        "colab_type": "code",
        "colab": {
          "base_uri": "https://localhost:8080/",
          "height": 51
        },
        "outputId": "9de59361-d87c-490c-8bf1-1dac0b952a84"
      },
      "source": [
        "# Slice tensor_sample\n",
        "\n",
        "subset_tensor_sample = tensor_sample[1:4]\n",
        "print(\"Original tensor sample: \", tensor_sample)\n",
        "print(\"The subset of tensor sample:\", subset_tensor_sample)"
      ],
      "execution_count": 33,
      "outputs": [
        {
          "output_type": "stream",
          "text": [
            "Original tensor sample:  tensor([100,   1,   2,   3,   0])\n",
            "The subset of tensor sample: tensor([1, 2, 3])\n"
          ],
          "name": "stdout"
        }
      ]
    },
    {
      "cell_type": "markdown",
      "metadata": {
        "id": "k9YPNcVfa4ZB",
        "colab_type": "text"
      },
      "source": [
        "As a result, the <code>subset_tensor_sample</code> returned only the values on index 1, index 2, and index 3. Then, it stored them in a <code>subset_tensor_sample</code>."
      ]
    },
    {
      "cell_type": "markdown",
      "metadata": {
        "id": "UaJiQwHJa4ZC",
        "colab_type": "text"
      },
      "source": [
        "<b>Note: The number on the left side of the colon represents the index of the first value. The number on the right side of the colon is always 1 larger than the index of the last value. For example, <code>tensor_sample[1:4]</code> means you get values from the index 1 to index 3 <i>(4-1)</i></b>."
      ]
    },
    {
      "cell_type": "markdown",
      "metadata": {
        "id": "MCqqXZD8a4ZD",
        "colab_type": "text"
      },
      "source": [
        "<!--Empty Space for separating topics-->"
      ]
    },
    {
      "cell_type": "markdown",
      "metadata": {
        "id": "tDEQlOaDa4ZR",
        "colab_type": "text"
      },
      "source": [
        "As for assigning values to the certain index, you can also assign the value to the slices:"
      ]
    },
    {
      "cell_type": "markdown",
      "metadata": {
        "id": "VlrToB_na4ZW",
        "colab_type": "text"
      },
      "source": [
        "Change the value of <code>tensor_sample</code> from index 3 to index 4:"
      ]
    },
    {
      "cell_type": "code",
      "metadata": {
        "id": "aRLXdjmHa4ZX",
        "colab_type": "code",
        "colab": {
          "base_uri": "https://localhost:8080/",
          "height": 51
        },
        "outputId": "671678bb-b843-47f3-8218-9aa5557d91c6"
      },
      "source": [
        "# Change the values on index 3 and index 4\n",
        "\n",
        "print(\"Inital value on index 3 and index 4:\", tensor_sample[3:5])\n",
        "tensor_sample[3:5] = torch.tensor([300.0, 400.0])\n",
        "print(\"Modified tensor:\", tensor_sample)"
      ],
      "execution_count": 34,
      "outputs": [
        {
          "output_type": "stream",
          "text": [
            "Inital value on index 3 and index 4: tensor([3, 0])\n",
            "Modified tensor: tensor([100,   1,   2, 300, 400])\n"
          ],
          "name": "stdout"
        }
      ]
    },
    {
      "cell_type": "markdown",
      "metadata": {
        "id": "aAJ-JHaZa4Zl",
        "colab_type": "text"
      },
      "source": [
        "The values on both index 3 and index 4 were changed. The values on other indexes remain the same."
      ]
    },
    {
      "cell_type": "markdown",
      "metadata": {
        "id": "RJlWLBVga4Zo",
        "colab_type": "text"
      },
      "source": [
        "<!--Empty Space for separating topics-->"
      ]
    },
    {
      "cell_type": "markdown",
      "metadata": {
        "id": "9uhQ14TFa4Z4",
        "colab_type": "text"
      },
      "source": [
        "You can also use a variable to contain the selected indexes and pass that variable to a tensor slice operation as a parameter, for example:  "
      ]
    },
    {
      "cell_type": "code",
      "metadata": {
        "id": "q6nWOYJ9a4Z5",
        "colab_type": "code",
        "colab": {
          "base_uri": "https://localhost:8080/",
          "height": 51
        },
        "outputId": "5cb11d1f-3513-40c1-d568-bbb2e00a583e"
      },
      "source": [
        "# Using variable to contain the selected index, and pass it to slice operation\n",
        "\n",
        "selected_indexes = [3, 4]\n",
        "subset_tensor_sample = tensor_sample[selected_indexes]\n",
        "print(\"The inital tensor_sample\", tensor_sample)\n",
        "print(\"The subset of tensor_sample with the values on index 3 and 4: \", subset_tensor_sample)"
      ],
      "execution_count": 35,
      "outputs": [
        {
          "output_type": "stream",
          "text": [
            "The inital tensor_sample tensor([100,   1,   2, 300, 400])\n",
            "The subset of tensor_sample with the values on index 3 and 4:  tensor([300, 400])\n"
          ],
          "name": "stdout"
        }
      ]
    },
    {
      "cell_type": "markdown",
      "metadata": {
        "id": "atAwVvX1a4aI",
        "colab_type": "text"
      },
      "source": [
        "<!--Empty Space for separating topics-->"
      ]
    },
    {
      "cell_type": "markdown",
      "metadata": {
        "id": "G4Wh99E8a4aJ",
        "colab_type": "text"
      },
      "source": [
        "You can also assign one value to the selected indexes by using the variable. For example, assign 100,000 to all the <code>selected_indexes</code>:"
      ]
    },
    {
      "cell_type": "code",
      "metadata": {
        "id": "1__-fX-ca4aK",
        "colab_type": "code",
        "colab": {
          "base_uri": "https://localhost:8080/",
          "height": 51
        },
        "outputId": "6bd78d87-9897-4883-cf25-f4722a230815"
      },
      "source": [
        "#Using variable to assign the value to the selected indexes\n",
        "\n",
        "print(\"The inital tensor_sample\", tensor_sample)\n",
        "selected_indexes = [1, 3]\n",
        "tensor_sample[selected_indexes] = 100000\n",
        "print(\"Modified tensor with one value: \", tensor_sample)"
      ],
      "execution_count": 36,
      "outputs": [
        {
          "output_type": "stream",
          "text": [
            "The inital tensor_sample tensor([100,   1,   2, 300, 400])\n",
            "Modified tensor with one value:  tensor([   100, 100000,      2, 100000,    400])\n"
          ],
          "name": "stdout"
        }
      ]
    },
    {
      "cell_type": "markdown",
      "metadata": {
        "id": "E41YMmmZa4aT",
        "colab_type": "text"
      },
      "source": [
        "The values on index 1 and index 3 were changed to 100,000. Others remain the same."
      ]
    },
    {
      "cell_type": "markdown",
      "metadata": {
        "id": "_2fVXa4La4aU",
        "colab_type": "text"
      },
      "source": [
        "<b>Note: You can use only one value for the assignment.</b>"
      ]
    },
    {
      "cell_type": "markdown",
      "metadata": {
        "id": "pYCwqPHoa4aV",
        "colab_type": "text"
      },
      "source": [
        "<!--Empty Space for separating topics-->"
      ]
    },
    {
      "cell_type": "markdown",
      "metadata": {
        "id": "14W7_bOCa4aW",
        "colab_type": "text"
      },
      "source": [
        "<h3>Practice</h3>"
      ]
    },
    {
      "cell_type": "markdown",
      "metadata": {
        "id": "LXN4EYNOa4aW",
        "colab_type": "text"
      },
      "source": [
        "Try to change the values on index 3, 4, 7 of the following tensor to 0."
      ]
    },
    {
      "cell_type": "code",
      "metadata": {
        "id": "YEzQTkYya4aX",
        "colab_type": "code",
        "colab": {
          "base_uri": "https://localhost:8080/",
          "height": 34
        },
        "outputId": "ba4adb28-0cd6-4368-ed12-696b8eb769bb"
      },
      "source": [
        "# Practice: Change the values on index 3, 4, 7 to 0\n",
        "\n",
        "practice_tensor = torch.tensor([2, 7, 3, 4, 6, 2, 3, 1, 2])\n",
        "\n",
        "practice_tensor[[3, 4, 7]] = 0\n",
        "\n",
        "print(practice_tensor)"
      ],
      "execution_count": 39,
      "outputs": [
        {
          "output_type": "stream",
          "text": [
            "tensor([2, 7, 3, 0, 0, 2, 3, 0, 2])\n"
          ],
          "name": "stdout"
        }
      ]
    },
    {
      "cell_type": "markdown",
      "metadata": {
        "id": "dYiKm9_Ea4ap",
        "colab_type": "text"
      },
      "source": [
        "Double-click <b>here</b> for the solution.\n",
        "<!-- \n",
        "selected_indexes = [3, 4, 7]\n",
        "practice_tensor[selected_indexes] = 0\n",
        "print(\"New Practice Tensor: \", practice_tensor)\n",
        "-->"
      ]
    },
    {
      "cell_type": "markdown",
      "metadata": {
        "id": "hjpqXT3oa4aq",
        "colab_type": "text"
      },
      "source": [
        "<!--Empty Space for separating topics-->"
      ]
    },
    {
      "cell_type": "markdown",
      "metadata": {
        "id": "14hSBkYha4a8",
        "colab_type": "text"
      },
      "source": [
        "<h2 id=\"Tensor_Func\">Tensor Functions</h2>"
      ]
    },
    {
      "cell_type": "markdown",
      "metadata": {
        "id": "_GqWCtJ7a4a9",
        "colab_type": "text"
      },
      "source": [
        "For this section, you'll work with some methods that you can apply to tensor objects."
      ]
    },
    {
      "cell_type": "markdown",
      "metadata": {
        "id": "Pt_0Xkama4bE",
        "colab_type": "text"
      },
      "source": [
        "<h3>Mean and Standard Deviation</h3>"
      ]
    },
    {
      "cell_type": "markdown",
      "metadata": {
        "id": "EUz7SmP8a4bF",
        "colab_type": "text"
      },
      "source": [
        "You'll review the mean and standard deviation methods first. They are two basic statistical methods."
      ]
    },
    {
      "cell_type": "markdown",
      "metadata": {
        "id": "xAKHEwyXa4bG",
        "colab_type": "text"
      },
      "source": [
        "<!--Empty Space for separating topics-->"
      ]
    },
    {
      "cell_type": "markdown",
      "metadata": {
        "id": "aIXYAxdVa4bH",
        "colab_type": "text"
      },
      "source": [
        "Create a tensor with values <i>[1.0, -1, 1, -1]</i>:"
      ]
    },
    {
      "cell_type": "code",
      "metadata": {
        "id": "saEIiKx7a4bI",
        "colab_type": "code",
        "colab": {
          "base_uri": "https://localhost:8080/",
          "height": 34
        },
        "outputId": "8a4adc45-a16b-4c96-bc78-cc46abcdf399"
      },
      "source": [
        "# Sample tensor for mathmatic calculation methods on tensor\n",
        "\n",
        "math_tensor = torch.tensor([1.0, -1.0, 1, -1])\n",
        "print(\"Tensor example: \", math_tensor)"
      ],
      "execution_count": 40,
      "outputs": [
        {
          "output_type": "stream",
          "text": [
            "Tensor example:  tensor([ 1., -1.,  1., -1.])\n"
          ],
          "name": "stdout"
        }
      ]
    },
    {
      "cell_type": "markdown",
      "metadata": {
        "id": "zOJzTdHUa4bW",
        "colab_type": "text"
      },
      "source": [
        "<!--Empty Space for separating topics-->"
      ]
    },
    {
      "cell_type": "markdown",
      "metadata": {
        "id": "eEQ9fy6Aa4bg",
        "colab_type": "text"
      },
      "source": [
        "Here is the mean method:  "
      ]
    },
    {
      "cell_type": "code",
      "metadata": {
        "id": "MjrdD12Ca4bh",
        "colab_type": "code",
        "colab": {
          "base_uri": "https://localhost:8080/",
          "height": 34
        },
        "outputId": "65a39020-639f-4ed9-83c7-48a4eef1916f"
      },
      "source": [
        "#Calculate the mean for math_tensor\n",
        "\n",
        "mean = math_tensor.mean()\n",
        "print(\"The mean of math_tensor: \", mean)"
      ],
      "execution_count": 41,
      "outputs": [
        {
          "output_type": "stream",
          "text": [
            "The mean of math_tensor:  tensor(0.)\n"
          ],
          "name": "stdout"
        }
      ]
    },
    {
      "cell_type": "markdown",
      "metadata": {
        "id": "CaCZQcOha4bq",
        "colab_type": "text"
      },
      "source": [
        "<!--Empty Space for separating topics-->"
      ]
    },
    {
      "cell_type": "markdown",
      "metadata": {
        "id": "qReaOXvCa4bs",
        "colab_type": "text"
      },
      "source": [
        "The standard deviation can also be calculated by using <code><i>tensor_obj</i>.std()</code>:"
      ]
    },
    {
      "cell_type": "code",
      "metadata": {
        "id": "BxT2O96Ia4bv",
        "colab_type": "code",
        "colab": {
          "base_uri": "https://localhost:8080/",
          "height": 34
        },
        "outputId": "74ed53d6-a243-44c3-e1eb-030580540e76"
      },
      "source": [
        "#Calculate the standard deviation for math_tensor\n",
        "\n",
        "standard_deviation = math_tensor.std()\n",
        "print(\"The standard deviation of math_tensor: \", standard_deviation)"
      ],
      "execution_count": 42,
      "outputs": [
        {
          "output_type": "stream",
          "text": [
            "The standard deviation of math_tensor:  tensor(1.1547)\n"
          ],
          "name": "stdout"
        }
      ]
    },
    {
      "cell_type": "markdown",
      "metadata": {
        "id": "mExdNpV-a4cC",
        "colab_type": "text"
      },
      "source": [
        "<!--Empty Space for separating topics-->"
      ]
    },
    {
      "cell_type": "markdown",
      "metadata": {
        "id": "p83iceO7a4cD",
        "colab_type": "text"
      },
      "source": [
        "<h3>Max and Min</h3>"
      ]
    },
    {
      "cell_type": "markdown",
      "metadata": {
        "id": "_pCcWUkTa4cE",
        "colab_type": "text"
      },
      "source": [
        "Now, you'll review another two useful methods: <code><i>tensor_obj</i>.max()</code> and <code><i>tensor_obj</i>.min()</code>. These two methods are used for finding the maximum value and the minimum value in the tensor."
      ]
    },
    {
      "cell_type": "markdown",
      "metadata": {
        "id": "AEc55epAa4cM",
        "colab_type": "text"
      },
      "source": [
        "<!--Empty Space for separating topics-->"
      ]
    },
    {
      "cell_type": "markdown",
      "metadata": {
        "id": "OsSc-rf2a4cN",
        "colab_type": "text"
      },
      "source": [
        "Create a <code>max_min_tensor</code>: "
      ]
    },
    {
      "cell_type": "code",
      "metadata": {
        "id": "yN-Z_GJXa4cO",
        "colab_type": "code",
        "colab": {
          "base_uri": "https://localhost:8080/",
          "height": 34
        },
        "outputId": "6be3b804-78a9-4bce-b76d-eed8288fd653"
      },
      "source": [
        "# Sample for introducing max and min methods\n",
        "\n",
        "max_min_tensor = torch.tensor([1, 1, 3, 5, 5])\n",
        "print(\"Tensor example: \", max_min_tensor)"
      ],
      "execution_count": 43,
      "outputs": [
        {
          "output_type": "stream",
          "text": [
            "Tensor example:  tensor([1, 1, 3, 5, 5])\n"
          ],
          "name": "stdout"
        }
      ]
    },
    {
      "cell_type": "markdown",
      "metadata": {
        "id": "SbKEnGo5a4cc",
        "colab_type": "text"
      },
      "source": [
        "<b>Note: There are two minimum numbers as 1 and two maximum numbers as 5 in the tensor. Can you guess how PyTorch is going to deal with the duplicates?</b>"
      ]
    },
    {
      "cell_type": "markdown",
      "metadata": {
        "id": "MBCkBHLXa4cc",
        "colab_type": "text"
      },
      "source": [
        "<!--Empty Space for separating topics-->"
      ]
    },
    {
      "cell_type": "markdown",
      "metadata": {
        "id": "nOrRjn7ha4ce",
        "colab_type": "text"
      },
      "source": [
        "Apply <code><i>tensor_obj</i>.max()</code> on <code>max_min_tensor</code>:"
      ]
    },
    {
      "cell_type": "code",
      "metadata": {
        "id": "Y07sNYgUa4cf",
        "colab_type": "code",
        "colab": {
          "base_uri": "https://localhost:8080/",
          "height": 34
        },
        "outputId": "b8e9dec1-60d0-4041-b16f-261385b92830"
      },
      "source": [
        "# Method for finding the maximum value in the tensor\n",
        "\n",
        "max_val = max_min_tensor.max()\n",
        "print(\"Maximum number in the tensor: \", max_val)"
      ],
      "execution_count": 44,
      "outputs": [
        {
          "output_type": "stream",
          "text": [
            "Maximum number in the tensor:  tensor(5)\n"
          ],
          "name": "stdout"
        }
      ]
    },
    {
      "cell_type": "markdown",
      "metadata": {
        "id": "DX28E3x8a4cm",
        "colab_type": "text"
      },
      "source": [
        "The answer is <code>tensor(5)</code>. Therefore, the method <code><i>tensor_obj</i>.max()</code> is grabbing the maximum value but not the elements that contain the maximum value in the tensor."
      ]
    },
    {
      "cell_type": "code",
      "metadata": {
        "id": "C2rtyYHia4cp",
        "colab_type": "code",
        "colab": {
          "base_uri": "https://localhost:8080/",
          "height": 34
        },
        "outputId": "c83a3de3-fc44-42f2-b474-58a12cdb401e"
      },
      "source": [
        " max_min_tensor.max()"
      ],
      "execution_count": 45,
      "outputs": [
        {
          "output_type": "execute_result",
          "data": {
            "text/plain": [
              "tensor(5)"
            ]
          },
          "metadata": {
            "tags": []
          },
          "execution_count": 45
        }
      ]
    },
    {
      "cell_type": "markdown",
      "metadata": {
        "id": "mO3z2vg_a4c1",
        "colab_type": "text"
      },
      "source": [
        "<!--Empty Space for separating topics-->"
      ]
    },
    {
      "cell_type": "markdown",
      "metadata": {
        "id": "kiJhtE_2a4c2",
        "colab_type": "text"
      },
      "source": [
        "Use <code><i>tensor_obj</i>.min()</code> on <code>max_min_tensor</code>:"
      ]
    },
    {
      "cell_type": "code",
      "metadata": {
        "id": "omy3v_vta4c3",
        "colab_type": "code",
        "colab": {
          "base_uri": "https://localhost:8080/",
          "height": 34
        },
        "outputId": "ed24086f-8645-4675-d9e9-dc5f8451f994"
      },
      "source": [
        "# Method for finding the minimum value in the tensor\n",
        "\n",
        "min_val = max_min_tensor.min()\n",
        "print(\"Minimum number in the tensor: \", min_val)"
      ],
      "execution_count": 46,
      "outputs": [
        {
          "output_type": "stream",
          "text": [
            "Minimum number in the tensor:  tensor(1)\n"
          ],
          "name": "stdout"
        }
      ]
    },
    {
      "cell_type": "markdown",
      "metadata": {
        "id": "oxCB2tSOa4dq",
        "colab_type": "text"
      },
      "source": [
        "The answer is <code>tensor(1)</code>. Therefore, the method <code><i>tensor_obj</i>.min()</code> is grabbing the minimum value but not the elements that contain the minimum value in the tensor."
      ]
    },
    {
      "cell_type": "markdown",
      "metadata": {
        "id": "_TkdwAaua4dv",
        "colab_type": "text"
      },
      "source": [
        "<!--Empty Space for separating topics-->"
      ]
    },
    {
      "cell_type": "markdown",
      "metadata": {
        "id": "2QGwtFkKa4dw",
        "colab_type": "text"
      },
      "source": [
        "<h3>Sin</h3>"
      ]
    },
    {
      "cell_type": "markdown",
      "metadata": {
        "id": "ecOWLgafa4dy",
        "colab_type": "text"
      },
      "source": [
        "Sin is the trigonometric function of an angle. Again, you will not be introducedvto any mathematic functions. You'll focus on Python."
      ]
    },
    {
      "cell_type": "markdown",
      "metadata": {
        "id": "r_0D_uwGa4d2",
        "colab_type": "text"
      },
      "source": [
        "<!--Empty Space for separating topics-->"
      ]
    },
    {
      "cell_type": "markdown",
      "metadata": {
        "id": "ZQV_Y1Xja4d3",
        "colab_type": "text"
      },
      "source": [
        "Create a tensor with 0, π/2 and π. Then, apply the sin function on the tensor. Notice here that the <code>sin()</code> is not a method of tensor object but is a function of torch:"
      ]
    },
    {
      "cell_type": "code",
      "metadata": {
        "id": "WnRIZmC1a4d4",
        "colab_type": "code",
        "colab": {
          "base_uri": "https://localhost:8080/",
          "height": 34
        },
        "outputId": "4971f5fc-35aa-4a34-b63b-96169b902a53"
      },
      "source": [
        "# Method for calculating the sin result of each element in the tensor\n",
        "\n",
        "pi_tensor = torch.tensor([0, np.pi/2, np.pi])\n",
        "sin = torch.sin(pi_tensor)\n",
        "print(\"The sin result of pi_tensor: \", sin)"
      ],
      "execution_count": 47,
      "outputs": [
        {
          "output_type": "stream",
          "text": [
            "The sin result of pi_tensor:  tensor([ 0.0000e+00,  1.0000e+00, -8.7423e-08])\n"
          ],
          "name": "stdout"
        }
      ]
    },
    {
      "cell_type": "markdown",
      "metadata": {
        "id": "vKY136Vja4eH",
        "colab_type": "text"
      },
      "source": [
        "The resultant tensor <code>sin</code> contains the result of the <code>sin</code> function applied to each element in the <code>pi_tensor</code>.<br>\n",
        "This is different from the previous methods. For <code><i>tensor_obj</i>.mean()</code>, <code><i>tensor_obj</i>.std()</code>, <code><i>tensor_obj</i>.max()</code>, and <code><i>tensor_obj</i>.min()</code>, the result is a tensor with only one number because these are aggregate methods.<br>\n",
        "However, the <code>torch.sin()</code> is not. Therefore, the resultant tensors have the same length as the input tensor."
      ]
    },
    {
      "cell_type": "markdown",
      "metadata": {
        "id": "bn7KqnDga4eP",
        "colab_type": "text"
      },
      "source": [
        "<!--Empty Space for separating topics-->"
      ]
    },
    {
      "cell_type": "markdown",
      "metadata": {
        "id": "Ly41_oGca4eQ",
        "colab_type": "text"
      },
      "source": [
        "<h3>Create Tensor by <code>torch.linspace()</code></h3>"
      ]
    },
    {
      "cell_type": "markdown",
      "metadata": {
        "id": "DuWPQHb0a4eQ",
        "colab_type": "text"
      },
      "source": [
        "A useful function for plotting mathematical functions is <code>torch.linspace()</code>. <code>torch.linspace()</code> returns evenly spaced numbers over a specified interval. You specify the starting point of the sequence and the ending point of the sequence. The parameter <code>steps</code> indicates the number of samples to generate. Now, you'll work with <code>steps = 5</code>."
      ]
    },
    {
      "cell_type": "code",
      "metadata": {
        "id": "KN9zYPv2a4eR",
        "colab_type": "code",
        "colab": {
          "base_uri": "https://localhost:8080/",
          "height": 34
        },
        "outputId": "481cc26e-8ee6-465f-e26a-3063b2ba6a7a"
      },
      "source": [
        "# First try on using linspace to create tensor\n",
        "\n",
        "len_5_tensor = torch.linspace(-2, 2, steps = 5)\n",
        "print (\"First Try on linspace\", len_5_tensor)"
      ],
      "execution_count": 48,
      "outputs": [
        {
          "output_type": "stream",
          "text": [
            "First Try on linspace tensor([-2., -1.,  0.,  1.,  2.])\n"
          ],
          "name": "stdout"
        }
      ]
    },
    {
      "cell_type": "markdown",
      "metadata": {
        "id": "zzQ2lWbKa4eY",
        "colab_type": "text"
      },
      "source": [
        "<!--Empty Space for separating topics-->"
      ]
    },
    {
      "cell_type": "markdown",
      "metadata": {
        "id": "vM3hE_OOa4eb",
        "colab_type": "text"
      },
      "source": [
        "Assign <code>steps</code> with 9:"
      ]
    },
    {
      "cell_type": "code",
      "metadata": {
        "id": "3LMFmkL7a4ef",
        "colab_type": "code",
        "colab": {
          "base_uri": "https://localhost:8080/",
          "height": 51
        },
        "outputId": "20850465-6818-465f-fbbe-57356027fbdf"
      },
      "source": [
        "# Second try on using linspace to create tensor\n",
        "\n",
        "len_9_tensor = torch.linspace(-2, 2, steps = 9)\n",
        "print (\"Second Try on linspace\", len_9_tensor)"
      ],
      "execution_count": 49,
      "outputs": [
        {
          "output_type": "stream",
          "text": [
            "Second Try on linspace tensor([-2.0000, -1.5000, -1.0000, -0.5000,  0.0000,  0.5000,  1.0000,  1.5000,\n",
            "         2.0000])\n"
          ],
          "name": "stdout"
        }
      ]
    },
    {
      "cell_type": "markdown",
      "metadata": {
        "id": "qGRPnxQza4eu",
        "colab_type": "text"
      },
      "source": [
        "<!--Empty Space for separating topics-->"
      ]
    },
    {
      "cell_type": "markdown",
      "metadata": {
        "id": "p70soN0sa4ev",
        "colab_type": "text"
      },
      "source": [
        "Use both <code>torch.linspace()</code> and <code>torch.sin()</code> to construct a tensor that contains the 100 sin result in range from 0 (0 degree) to 2π (360 degree): "
      ]
    },
    {
      "cell_type": "code",
      "metadata": {
        "id": "J5TUSAXca4e1",
        "colab_type": "code",
        "colab": {}
      },
      "source": [
        "# Construct the tensor within 0 to 360 degree\n",
        "\n",
        "pi_tensor = torch.linspace(0, 2*np.pi, 100)\n",
        "sin_result = torch.sin(pi_tensor)"
      ],
      "execution_count": 0,
      "outputs": []
    },
    {
      "cell_type": "markdown",
      "metadata": {
        "id": "tXApfHWua4e5",
        "colab_type": "text"
      },
      "source": [
        "Plot the result to get a clearer picture. You must cast the tensor to a numpy array before plotting it."
      ]
    },
    {
      "cell_type": "code",
      "metadata": {
        "id": "DQX_liHFa4e6",
        "colab_type": "code",
        "colab": {
          "base_uri": "https://localhost:8080/",
          "height": 282
        },
        "outputId": "4a72a962-b8f8-496b-81f3-52068ffabe13"
      },
      "source": [
        "# Plot sin_result\n",
        "\n",
        "plt.plot(pi_tensor.numpy(), sin_result.numpy())"
      ],
      "execution_count": 51,
      "outputs": [
        {
          "output_type": "execute_result",
          "data": {
            "text/plain": [
              "[<matplotlib.lines.Line2D at 0x7fb091013278>]"
            ]
          },
          "metadata": {
            "tags": []
          },
          "execution_count": 51
        },
        {
          "output_type": "display_data",
          "data": {
            "image/png": "[encoded data removed]",
            "text/plain": [
              "<Figure size 432x288 with 1 Axes>"
            ]
          },
          "metadata": {
            "tags": [],
            "needs_background": "light"
          }
        }
      ]
    },
    {
      "cell_type": "markdown",
      "metadata": {
        "id": "THldyxl7a4fA",
        "colab_type": "text"
      },
      "source": [
        "If you know the trigonometric function, you will notice this is the diagram of the sin result in the range 0 to 360 degrees."
      ]
    },
    {
      "cell_type": "markdown",
      "metadata": {
        "id": "K_EnNnSha4fB",
        "colab_type": "text"
      },
      "source": [
        "<!--Empty Space for separating topics-->"
      ]
    },
    {
      "cell_type": "markdown",
      "metadata": {
        "id": "GR95nj2Ta4fC",
        "colab_type": "text"
      },
      "source": [
        "<h3>Practice</h3>"
      ]
    },
    {
      "cell_type": "markdown",
      "metadata": {
        "id": "XA8dX6Pma4fC",
        "colab_type": "text"
      },
      "source": [
        "Construct a tensor with 25 steps in the range 0 to π/2. Print out the Maximum and Minimum number. Also, plot  a graph showing the diagram that shows the result."
      ]
    },
    {
      "cell_type": "code",
      "metadata": {
        "id": "ih3ECVZza4fD",
        "colab_type": "code",
        "colab": {
          "base_uri": "https://localhost:8080/",
          "height": 316
        },
        "outputId": "409d6127-f378-4bbc-ec16-d9b412010bc8"
      },
      "source": [
        "# Practice: Create your tensor, print max and min number, plot the sin result diagram\n",
        "\n",
        "# Type your code here\n",
        "\n",
        "x = torch.linspace(0, np.pi / 2, 25)\n",
        "print('Min = ', x.min())\n",
        "print('Max = ', x.max())\n",
        "\n",
        "y = torch.sin(x)\n",
        "\n",
        "plt.plot(x.numpy(), y.numpy())"
      ],
      "execution_count": 55,
      "outputs": [
        {
          "output_type": "stream",
          "text": [
            "Min =  tensor(0.)\n",
            "Max =  tensor(1.5708)\n"
          ],
          "name": "stdout"
        },
        {
          "output_type": "execute_result",
          "data": {
            "text/plain": [
              "[<matplotlib.lines.Line2D at 0x7fb09111b978>]"
            ]
          },
          "metadata": {
            "tags": []
          },
          "execution_count": 55
        },
        {
          "output_type": "display_data",
          "data": {
            "image/png": "[encoded data removed]",
            "text/plain": [
              "<Figure size 432x288 with 1 Axes>"
            ]
          },
          "metadata": {
            "tags": [],
            "needs_background": "light"
          }
        }
      ]
    },
    {
      "cell_type": "markdown",
      "metadata": {
        "id": "sz_9H-jfa4fI",
        "colab_type": "text"
      },
      "source": [
        "Double-click <b>here</b> for the solution.\n",
        "<!-- \n",
        "pi_tensor = torch.linspace(0, np.pi/2, 100)\n",
        "print(\"Max Number: \", pi_tensor.max())\n",
        "print(\"Min Number\", pi_tensor.min())\n",
        "sin_result = torch.sin(pi_tensor)\n",
        "plt.plot(pi_tensor.numpy(), sin_result.numpy())\n",
        "-->"
      ]
    },
    {
      "cell_type": "markdown",
      "metadata": {
        "id": "TdXNO_1qa4fK",
        "colab_type": "text"
      },
      "source": [
        "<!--Empty Space for separating topics-->"
      ]
    },
    {
      "cell_type": "markdown",
      "metadata": {
        "id": "nph3-ZyLa4fK",
        "colab_type": "text"
      },
      "source": [
        "<h2 id=\"Tensor_Op\">Tensor Operations</h2>"
      ]
    },
    {
      "cell_type": "markdown",
      "metadata": {
        "id": "4Jn8aOila4fQ",
        "colab_type": "text"
      },
      "source": [
        "In the following section, you'll work with operations that you can apply to a tensor."
      ]
    },
    {
      "cell_type": "markdown",
      "metadata": {
        "id": "kT1aYOlFa4fQ",
        "colab_type": "text"
      },
      "source": [
        "<!--Empty Space for separating topics-->"
      ]
    },
    {
      "cell_type": "markdown",
      "metadata": {
        "id": "V2vWox_Da4fR",
        "colab_type": "text"
      },
      "source": [
        "<h3>Tensor Addition</h3>"
      ]
    },
    {
      "cell_type": "markdown",
      "metadata": {
        "id": "mB7UUunra4fS",
        "colab_type": "text"
      },
      "source": [
        "You can perform addition between two tensors."
      ]
    },
    {
      "cell_type": "markdown",
      "metadata": {
        "id": "wppxnM3Ja4fS",
        "colab_type": "text"
      },
      "source": [
        "Create a tensor <code>u</code> with 1 dimension and 2 elements. Then, create another tensor <code>v</code> with the same number of dimensions and the same number of elements:"
      ]
    },
    {
      "cell_type": "code",
      "metadata": {
        "id": "o6U0RIAKa4fT",
        "colab_type": "code",
        "colab": {}
      },
      "source": [
        "# Create two sample tensors\n",
        "\n",
        "u = torch.tensor([1, 0])\n",
        "v = torch.tensor([0, 1])"
      ],
      "execution_count": 0,
      "outputs": []
    },
    {
      "cell_type": "markdown",
      "metadata": {
        "id": "hmE73YeTa4fy",
        "colab_type": "text"
      },
      "source": [
        "Add <code>u</code> and <code>v</code> together:"
      ]
    },
    {
      "cell_type": "code",
      "metadata": {
        "id": "Yvt0DIxUa4fz",
        "colab_type": "code",
        "colab": {
          "base_uri": "https://localhost:8080/",
          "height": 34
        },
        "outputId": "eb89e170-c963-4997-f671-52185c328a1b"
      },
      "source": [
        "# Add u and v\n",
        "\n",
        "w = u + v\n",
        "print(\"The result tensor: \", w)"
      ],
      "execution_count": 57,
      "outputs": [
        {
          "output_type": "stream",
          "text": [
            "The result tensor:  tensor([1, 1])\n"
          ],
          "name": "stdout"
        }
      ]
    },
    {
      "cell_type": "markdown",
      "metadata": {
        "id": "2IFEIVcna4f6",
        "colab_type": "text"
      },
      "source": [
        "The result is <code>tensor([1, 1])</code>. The behavior is <i>[1 + 0, 0 + 1]</i>."
      ]
    },
    {
      "cell_type": "markdown",
      "metadata": {
        "id": "KuCda8f6a4f8",
        "colab_type": "text"
      },
      "source": [
        "Plot the result to to get a clearer picture."
      ]
    },
    {
      "cell_type": "code",
      "metadata": {
        "id": "-Kr1LVnHa4f8",
        "colab_type": "code",
        "colab": {
          "base_uri": "https://localhost:8080/",
          "height": 269
        },
        "outputId": "f296bbe1-fa4c-424d-f673-ef14f4b96218"
      },
      "source": [
        "# Plot u, v, w\n",
        "\n",
        "plotVec([\n",
        "    {\"vector\": u.numpy(), \"name\": 'u', \"color\": 'r'},\n",
        "    {\"vector\": v.numpy(), \"name\": 'v', \"color\": 'b'},\n",
        "    {\"vector\": w.numpy(), \"name\": 'w', \"color\": 'g'}\n",
        "])"
      ],
      "execution_count": 58,
      "outputs": [
        {
          "output_type": "display_data",
          "data": {
            "image/png": "[encoded data removed]",
            "text/plain": [
              "<Figure size 432x288 with 1 Axes>"
            ]
          },
          "metadata": {
            "tags": [],
            "needs_background": "light"
          }
        }
      ]
    },
    {
      "cell_type": "markdown",
      "metadata": {
        "id": "YBmbB4a1a4gE",
        "colab_type": "text"
      },
      "source": [
        "<!--Empty Space for separating topics-->"
      ]
    },
    {
      "cell_type": "markdown",
      "metadata": {
        "id": "OIsRojTRa4gE",
        "colab_type": "text"
      },
      "source": [
        "<h3>Try</h3> "
      ]
    },
    {
      "cell_type": "markdown",
      "metadata": {
        "id": "EFxH7xqoa4gG",
        "colab_type": "text"
      },
      "source": [
        "Implement the tensor subtraction with <code>u</code> and <code>v</code> as u-v."
      ]
    },
    {
      "cell_type": "code",
      "metadata": {
        "id": "jLSaHfkTa4gJ",
        "colab_type": "code",
        "colab": {
          "base_uri": "https://localhost:8080/",
          "height": 286
        },
        "outputId": "3625a1a4-5ab2-410c-a1f1-f15dd7b4f636"
      },
      "source": [
        "# Try by yourself to get a result of u-v\n",
        "\n",
        "u = torch.tensor([1, 0])\n",
        "v = torch.tensor([0, 1])\n",
        "\n",
        "w = u - v\n",
        "print(w)\n",
        "\n",
        "plotVec([{'vector' : u.numpy(), 'color' : 'r', 'name' : 'u'},\n",
        "         {'vector' : v.numpy(), 'color' : 'y', 'name' : 'v'},\n",
        "         {'vector' : w.numpy(), 'color' : 'b', 'name' : 'w'}])"
      ],
      "execution_count": 61,
      "outputs": [
        {
          "output_type": "stream",
          "text": [
            "tensor([ 1, -1])\n"
          ],
          "name": "stdout"
        },
        {
          "output_type": "display_data",
          "data": {
            "image/png": "[encoded data removed]",
            "text/plain": [
              "<Figure size 432x288 with 1 Axes>"
            ]
          },
          "metadata": {
            "tags": [],
            "needs_background": "light"
          }
        }
      ]
    },
    {
      "cell_type": "markdown",
      "metadata": {
        "id": "uRM8FDEga4hC",
        "colab_type": "text"
      },
      "source": [
        "Double-click <b>here</b> for the solution.\n",
        "<!--\n",
        "print(\"The result tensor: \", u-v)\n",
        "-->"
      ]
    },
    {
      "cell_type": "markdown",
      "metadata": {
        "id": "AIWV5LLOa4hG",
        "colab_type": "text"
      },
      "source": [
        "Tensors must be of the same data type to perform addition as well as other operations.If you uncomment the  following code and try to run it you will get an error as the two tensors are of two different data types."
      ]
    },
    {
      "cell_type": "code",
      "metadata": {
        "id": "GOeA-_ena4hG",
        "colab_type": "code",
        "colab": {}
      },
      "source": [
        "#torch.tensor([1,2,3],dtype=torch.int64)+torch.tensor([1,2,3],dtype=torch.float6464)"
      ],
      "execution_count": 0,
      "outputs": []
    },
    {
      "cell_type": "markdown",
      "metadata": {
        "id": "BOeSnGwRa4hL",
        "colab_type": "text"
      },
      "source": [
        "<!--Empty Space for separating topics-->"
      ]
    },
    {
      "cell_type": "markdown",
      "metadata": {
        "id": "1nM4RCqFa4hM",
        "colab_type": "text"
      },
      "source": [
        "You can add a scalar to the tensor. Use <code>u</code> as the sample tensor:"
      ]
    },
    {
      "cell_type": "code",
      "metadata": {
        "id": "BjELvmY0a4hO",
        "colab_type": "code",
        "colab": {
          "base_uri": "https://localhost:8080/",
          "height": 34
        },
        "outputId": "a18f4560-794d-42c8-ee3c-01ffc162c1e8"
      },
      "source": [
        "# tensor + scalar\n",
        "\n",
        "u = torch.tensor([1, 2, 3, -1])\n",
        "v = u + 1\n",
        "print (\"Addition Result: \", v)"
      ],
      "execution_count": 62,
      "outputs": [
        {
          "output_type": "stream",
          "text": [
            "Addition Result:  tensor([2, 3, 4, 0])\n"
          ],
          "name": "stdout"
        }
      ]
    },
    {
      "cell_type": "markdown",
      "metadata": {
        "id": "8nfFXUW1a4hW",
        "colab_type": "text"
      },
      "source": [
        "The result is simply adding 1 to each element in tensor <code>u</code> as shown in the following image:"
      ]
    },
    {
      "cell_type": "markdown",
      "metadata": {
        "id": "l8pQa_m1a4hX",
        "colab_type": "text"
      },
      "source": [
        "<img src = \"https://s3-api.us-geo.objectstorage.softlayer.net/cf-courses-data/CognitiveClass/DL0110EN/notebook_images%20/chapter%201/brodcasting.gif\" width = \"500\" alt=\"tensor addition\" />"
      ]
    },
    {
      "cell_type": "markdown",
      "metadata": {
        "id": "Awl9lnwta4hX",
        "colab_type": "text"
      },
      "source": [
        "<!--Empty Space for separating topics-->"
      ]
    },
    {
      "cell_type": "markdown",
      "metadata": {
        "id": "xbLy6asva4hY",
        "colab_type": "text"
      },
      "source": [
        "<h3>Tensor Multiplication </h3>"
      ]
    },
    {
      "cell_type": "markdown",
      "metadata": {
        "id": "tHDVeUDQa4hZ",
        "colab_type": "text"
      },
      "source": [
        "Now, you'll review the multiplication between a tensor and a scalar."
      ]
    },
    {
      "cell_type": "markdown",
      "metadata": {
        "id": "yVCFsEowa4ha",
        "colab_type": "text"
      },
      "source": [
        "Create a tensor with value <code>[1, 2]</code> and then multiply it by 2:"
      ]
    },
    {
      "cell_type": "code",
      "metadata": {
        "id": "0q1vEB48a4hb",
        "colab_type": "code",
        "colab": {
          "base_uri": "https://localhost:8080/",
          "height": 34
        },
        "outputId": "4d6a16cf-97ad-4f7e-a2a8-4f9d7eb11614"
      },
      "source": [
        "# tensor * scalar\n",
        "\n",
        "u = torch.tensor([1, 2])\n",
        "v = 2 * u\n",
        "print(\"The result of 2 * u: \", v)"
      ],
      "execution_count": 63,
      "outputs": [
        {
          "output_type": "stream",
          "text": [
            "The result of 2 * u:  tensor([2, 4])\n"
          ],
          "name": "stdout"
        }
      ]
    },
    {
      "cell_type": "markdown",
      "metadata": {
        "id": "Eam7UL0Ga4hm",
        "colab_type": "text"
      },
      "source": [
        "The result is <code>tensor([2, 4])</code>, so the code <code>2 * u</code> multiplies each element in the tensor by 2. This is how you get the product between a vector or matrix and a scalar in linear algebra."
      ]
    },
    {
      "cell_type": "markdown",
      "metadata": {
        "id": "ZPVq3_yHa4hn",
        "colab_type": "text"
      },
      "source": [
        "<!--Empty Space for separating topics-->"
      ]
    },
    {
      "cell_type": "markdown",
      "metadata": {
        "id": "ig41zxPpa4hn",
        "colab_type": "text"
      },
      "source": [
        "You can use multiplication between two tensors."
      ]
    },
    {
      "cell_type": "markdown",
      "metadata": {
        "id": "7B0AR0KBa4h5",
        "colab_type": "text"
      },
      "source": [
        "Create two tensors <code>u</code> and <code>v</code> and then multiply them together:"
      ]
    },
    {
      "cell_type": "code",
      "metadata": {
        "id": "swDfydjma4h6",
        "colab_type": "code",
        "colab": {
          "base_uri": "https://localhost:8080/",
          "height": 34
        },
        "outputId": "ce6a18e6-2652-4011-ca54-7f08ee7026a0"
      },
      "source": [
        "# tensor * tensor\n",
        "\n",
        "u = torch.tensor([1, 2])\n",
        "v = torch.tensor([3, 2])\n",
        "w = u * v\n",
        "print (\"The result of u * v\", w)"
      ],
      "execution_count": 64,
      "outputs": [
        {
          "output_type": "stream",
          "text": [
            "The result of u * v tensor([3, 4])\n"
          ],
          "name": "stdout"
        }
      ]
    },
    {
      "cell_type": "markdown",
      "metadata": {
        "id": "BRLxSIbRa4h_",
        "colab_type": "text"
      },
      "source": [
        "The result is simply <code>tensor([3, 4])</code>. This result is achieved by multiplying every element in <code>u</code> with the corresponding element in the same position <code>v</code>, which is similar to <i>[1 * 3, 2 * 2]</i>."
      ]
    },
    {
      "cell_type": "markdown",
      "metadata": {
        "id": "yE1Hmvlfa4iB",
        "colab_type": "text"
      },
      "source": [
        "<!--Empty Space for separating topics-->"
      ]
    },
    {
      "cell_type": "markdown",
      "metadata": {
        "id": "LWbeKumBa4iG",
        "colab_type": "text"
      },
      "source": [
        "<h3>Dot Product</h3>"
      ]
    },
    {
      "cell_type": "markdown",
      "metadata": {
        "id": "rM4EoYWra4iK",
        "colab_type": "text"
      },
      "source": [
        "The dot product is a special operation for a vector that you can use in Torch."
      ]
    },
    {
      "cell_type": "markdown",
      "metadata": {
        "id": "p4AVd_7fa4iL",
        "colab_type": "text"
      },
      "source": [
        "Here is the dot product of the two tensors <code>u</code> and <code>v</code>:"
      ]
    },
    {
      "cell_type": "code",
      "metadata": {
        "id": "NoMYzDdla4iL",
        "colab_type": "code",
        "colab": {
          "base_uri": "https://localhost:8080/",
          "height": 34
        },
        "outputId": "a8cc96a0-f464-415e-f013-0de45f033809"
      },
      "source": [
        "# Calculate dot product of u, v\n",
        "\n",
        "u = torch.tensor([1, 2])\n",
        "v = torch.tensor([3, 2])\n",
        "\n",
        "print(\"Dot Product of u, v:\", torch.dot(u,v))"
      ],
      "execution_count": 65,
      "outputs": [
        {
          "output_type": "stream",
          "text": [
            "Dot Product of u, v: tensor(7)\n"
          ],
          "name": "stdout"
        }
      ]
    },
    {
      "cell_type": "markdown",
      "metadata": {
        "id": "JVVae_poa4ib",
        "colab_type": "text"
      },
      "source": [
        "The result is <code>tensor(7)</code>. The function is <i>1 x 3 + 2 x 2 = 7</i>."
      ]
    },
    {
      "cell_type": "markdown",
      "metadata": {
        "id": "JUfTC7kNa4ib",
        "colab_type": "text"
      },
      "source": [
        "<!--Empty Space for separating topics-->"
      ]
    },
    {
      "cell_type": "markdown",
      "metadata": {
        "id": "VULithO3a4ic",
        "colab_type": "text"
      },
      "source": [
        "<h3>Practice</h3>"
      ]
    },
    {
      "cell_type": "markdown",
      "metadata": {
        "id": "mIpluhaea4id",
        "colab_type": "text"
      },
      "source": [
        "Convert the list <i>[-1, 1]</i> and <i>[1, 1]</i> to tensors <code>u</code> and <code>v</code>. Then, plot the tensor <code>u</code> and <code>v</code> as a vector by using the function <code>plotVec</code> and find the dot product:"
      ]
    },
    {
      "cell_type": "code",
      "metadata": {
        "id": "PFA43aFya4if",
        "colab_type": "code",
        "colab": {
          "base_uri": "https://localhost:8080/",
          "height": 269
        },
        "outputId": "2aebfae6-6421-4ef8-fbdd-58e7470b0fd8"
      },
      "source": [
        "# Practice: calculate the dot product of u and v, and plot out two vectors\n",
        "\n",
        "# Type your code here\n",
        "\n",
        "u = torch.tensor([-1, 1])\n",
        "v = torch.tensor([1, 1])\n",
        "\n",
        "plotVec([{'vector' : u.numpy(), 'color' : 'r', 'name' : 'u'},\n",
        "         {'vector' : v.numpy(), 'color' : 'g', 'name' : 'v'}])"
      ],
      "execution_count": 66,
      "outputs": [
        {
          "output_type": "display_data",
          "data": {
            "image/png": "[encoded data removed]",
            "text/plain": [
              "<Figure size 432x288 with 1 Axes>"
            ]
          },
          "metadata": {
            "tags": [],
            "needs_background": "light"
          }
        }
      ]
    },
    {
      "cell_type": "markdown",
      "metadata": {
        "id": "JNGvQFpJa4in",
        "colab_type": "text"
      },
      "source": [
        "Double-click <b>here</b> for the solution.\n",
        "<!-- \n",
        "u= torch.tensor([-1, 1])\n",
        "v= torch.tensor([1, 1])\n",
        "plotVec([\n",
        "    {\"vector\": u.numpy(), \"name\": 'u', \"color\": 'r'},\n",
        "    {\"vector\": v.numpy(), \"name\": 'v', \"color\": 'b'}\n",
        "])\n",
        "print(\"The Dot Product is\",np.dot(u, v))\n",
        " -->"
      ]
    },
    {
      "cell_type": "markdown",
      "metadata": {
        "id": "dWERded3a4io",
        "colab_type": "text"
      },
      "source": [
        "<!--Empty Space for separating topics-->"
      ]
    },
    {
      "cell_type": "markdown",
      "metadata": {
        "id": "SkhlIcRBa4i4",
        "colab_type": "text"
      },
      "source": [
        "See <a href=\"https://docs.scipy.org/doc/numpy-1.13.0/user/basics.broadcasting.html\">Broadcasting</a> for more information on numpy that is similar to PyTorch."
      ]
    },
    {
      "cell_type": "markdown",
      "metadata": {
        "id": "Vnf8GPTWa4i5",
        "colab_type": "text"
      },
      "source": [
        "<a href=\"http://cocl.us/pytorch_link_bottom\">\n",
        "    <img src=\"https://s3-api.us-geo.objectstorage.softlayer.net/cf-courses-data/CognitiveClass/DL0110EN/notebook_images%20/notebook_bottom%20.png\" width=\"750\" alt=\"PyTorch Bottom\" />\n",
        "</a>\n"
      ]
    },
    {
      "cell_type": "markdown",
      "metadata": {
        "id": "kRZBmWEea4i6",
        "colab_type": "text"
      },
      "source": [
        "<h2>About the Authors:</h2> \n",
        "\n",
        "<a href=\"https://www.linkedin.com/in/joseph-s-50398b136/\">Joseph Santarcangelo</a> has a PhD in Electrical Engineering, his research focused on using machine learning, signal processing, and computer vision to determine how videos impact human cognition. Joseph has been working for IBM since he completed his PhD."
      ]
    },
    {
      "cell_type": "markdown",
      "metadata": {
        "id": "w1lq4Yl-a4i6",
        "colab_type": "text"
      },
      "source": [
        "Other contributors: <a href=\"https://www.linkedin.com/in/michelleccarey/\">Michelle Carey</a>, <a href=\"www.linkedin.com/in/jiahui-mavis-zhou-a4537814a\">Mavis Zhou</a> "
      ]
    },
    {
      "cell_type": "markdown",
      "metadata": {
        "id": "x1CXymOJa4i7",
        "colab_type": "text"
      },
      "source": [
        "<hr>"
      ]
    },
    {
      "cell_type": "markdown",
      "metadata": {
        "id": "EAJHtoDVa4i7",
        "colab_type": "text"
      },
      "source": [
        "Copyright &copy; 2018 <a href=\"cognitiveclass.ai?utm_source=bducopyrightlink&utm_medium=dswb&utm_campaign=bdu\">cognitiveclass.ai</a>. This notebook and its source code are released under the terms of the <a href=\"https://bigdatauniversity.com/mit-license/\">MIT License</a>."
      ]
    },
    {
      "cell_type": "code",
      "metadata": {
        "id": "1cHePV86oJAY",
        "colab_type": "code",
        "colab": {}
      },
      "source": [
        ""
      ],
      "execution_count": 0,
      "outputs": []
    }
  ]
}