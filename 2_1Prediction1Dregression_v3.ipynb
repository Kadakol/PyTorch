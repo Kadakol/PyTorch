{
  "nbformat": 4,
  "nbformat_minor": 0,
  "metadata": {
    "kernelspec": {
      "display_name": "Python 3",
      "language": "python",
      "name": "python3"
    },
    "language_info": {
      "codemirror_mode": {
        "name": "ipython",
        "version": 3
      },
      "file_extension": ".py",
      "mimetype": "text/x-python",
      "name": "python",
      "nbconvert_exporter": "python",
      "pygments_lexer": "ipython3",
      "version": "3.6.8"
    },
    "colab": {
      "name": "2.1Prediction1Dregression_v3.ipynb",
      "provenance": [],
      "collapsed_sections": [],
      "include_colab_link": true
    }
  },
  "cells": [
    {
      "cell_type": "markdown",
      "metadata": {
        "id": "view-in-github",
        "colab_type": "text"
      },
      "source": [
        "<a href=\"https://colab.research.google.com/github/Kadakol/PyTorch/blob/master/2_1Prediction1Dregression_v3.ipynb\" target=\"_parent\"><img src=\"https://colab.research.google.com/assets/colab-badge.svg\" alt=\"Open In Colab\"/></a>"
      ]
    },
    {
      "cell_type": "markdown",
      "metadata": {
        "id": "_wofkREq1fXU",
        "colab_type": "text"
      },
      "source": [
        "<a href=\"http://cocl.us/pytorch_link_top\">\n",
        "    <img src=\"https://s3-api.us-geo.objectstorage.softlayer.net/cf-courses-data/CognitiveClass/DL0110EN/notebook_images%20/Pytochtop.png\" width=\"750\" alt=\"IBM Product \" />\n",
        "</a> "
      ]
    },
    {
      "cell_type": "markdown",
      "metadata": {
        "id": "6cfRry-M1fXW",
        "colab_type": "text"
      },
      "source": [
        "<img src=\"https://s3-api.us-geo.objectstorage.softlayer.net/cf-courses-data/CognitiveClass/DL0110EN/notebook_images%20/cc-logo-square.png\" width=\"200\" alt=\"cognitiveclass.ai logo\" />"
      ]
    },
    {
      "cell_type": "markdown",
      "metadata": {
        "id": "WkSuAuOP1fXY",
        "colab_type": "text"
      },
      "source": [
        "<h1>Linear Regression 1D: Prediction</h1>"
      ]
    },
    {
      "cell_type": "markdown",
      "metadata": {
        "id": "gMGqFEc01fXZ",
        "colab_type": "text"
      },
      "source": [
        "<h2>Table of Contents</h2>\n",
        "<p>In this lab, we will  review how to make a prediction in several different ways by using PyTorch.</h2>\n",
        "<ul>\n",
        "    <li><a href=\"#Prediction\">Prediction</a></li>\n",
        "    <li><a href=\"#Linear\">Class Linear</a></li>\n",
        "    <li><a href=\"#Cust\">Build Custom Modules</a></li>\n",
        "</ul>\n",
        "<p>Estimated Time Needed: <strong>15 min</strong></p>\n",
        "\n",
        "<hr>"
      ]
    },
    {
      "cell_type": "markdown",
      "metadata": {
        "id": "hg3hdORI1fXb",
        "colab_type": "text"
      },
      "source": [
        "<h2>Preparation</h2>"
      ]
    },
    {
      "cell_type": "markdown",
      "metadata": {
        "id": "NVFR7QDZ1fXc",
        "colab_type": "text"
      },
      "source": [
        "The following are the libraries we are going to use for this lab."
      ]
    },
    {
      "cell_type": "code",
      "metadata": {
        "id": "5RUSDHxA1fXe",
        "colab_type": "code",
        "colab": {}
      },
      "source": [
        "# These are the libraries will be used for this lab.\n",
        "\n",
        "import torch"
      ],
      "execution_count": 0,
      "outputs": []
    },
    {
      "cell_type": "markdown",
      "metadata": {
        "id": "bfob_C4a1fXo",
        "colab_type": "text"
      },
      "source": [
        "<!--Empty Space for separating topics-->"
      ]
    },
    {
      "cell_type": "markdown",
      "metadata": {
        "id": "O6vfYZED1fXp",
        "colab_type": "text"
      },
      "source": [
        "<h2 id=\"Prediction\">Prediction</h2>"
      ]
    },
    {
      "cell_type": "markdown",
      "metadata": {
        "id": "-kvupafb1fXq",
        "colab_type": "text"
      },
      "source": [
        "Let us create the following expressions:"
      ]
    },
    {
      "cell_type": "markdown",
      "metadata": {
        "id": "HrW2WDxK1fXs",
        "colab_type": "text"
      },
      "source": [
        "$b=-1,w=2$\n",
        "\n",
        "$\\hat{y}=-1+2x$"
      ]
    },
    {
      "cell_type": "markdown",
      "metadata": {
        "id": "V6dcFn-p1fXt",
        "colab_type": "text"
      },
      "source": [
        "First, define the parameters:"
      ]
    },
    {
      "cell_type": "code",
      "metadata": {
        "id": "MJk0hg2b1fXu",
        "colab_type": "code",
        "colab": {}
      },
      "source": [
        "# Define w = 2 and b = -1 for y = wx + b\n",
        "\n",
        "w = torch.tensor(2.0, requires_grad = True)\n",
        "b = torch.tensor(-1.0, requires_grad = True)"
      ],
      "execution_count": 0,
      "outputs": []
    },
    {
      "cell_type": "markdown",
      "metadata": {
        "id": "pnZn2Y4Y1fX2",
        "colab_type": "text"
      },
      "source": [
        "Then, define the function <code>forward(x, w, b)</code> makes the prediction: "
      ]
    },
    {
      "cell_type": "code",
      "metadata": {
        "id": "1_ONThIb1fX4",
        "colab_type": "code",
        "colab": {}
      },
      "source": [
        "# Function forward(x) for prediction\n",
        "\n",
        "def forward(x):\n",
        "    yhat = w * x + b\n",
        "    return yhat"
      ],
      "execution_count": 0,
      "outputs": []
    },
    {
      "cell_type": "markdown",
      "metadata": {
        "id": "yyvypj_C1fX_",
        "colab_type": "text"
      },
      "source": [
        "Let's make the following prediction at <i>x = 1</i>"
      ]
    },
    {
      "cell_type": "markdown",
      "metadata": {
        "id": "NYkG-W0K1fYB",
        "colab_type": "text"
      },
      "source": [
        "$\\hat{y}=-1+2x$\n",
        "\n",
        "$\\hat{y}=-1+2(1)$"
      ]
    },
    {
      "cell_type": "code",
      "metadata": {
        "id": "QzHy2ZbX1fYC",
        "colab_type": "code",
        "colab": {
          "base_uri": "https://localhost:8080/",
          "height": 34
        },
        "outputId": "dd433d39-7c9a-429b-8cb2-a8c38497db0f"
      },
      "source": [
        "# Predict y = 2x - 1 at x = 1\n",
        "\n",
        "x = torch.tensor([[1.0]])\n",
        "yhat = forward(x)\n",
        "print(\"The prediction: \", yhat)"
      ],
      "execution_count": 4,
      "outputs": [
        {
          "output_type": "stream",
          "text": [
            "The prediction:  tensor([[1.]], grad_fn=<AddBackward0>)\n"
          ],
          "name": "stdout"
        }
      ]
    },
    {
      "cell_type": "markdown",
      "metadata": {
        "id": "XV451RPH1fYK",
        "colab_type": "text"
      },
      "source": [
        "<!--Empty Space for separating topics-->"
      ]
    },
    {
      "cell_type": "markdown",
      "metadata": {
        "id": "P0EG1Yb81fYL",
        "colab_type": "text"
      },
      "source": [
        "Now, let us try to make the prediction for multiple inputs:"
      ]
    },
    {
      "cell_type": "markdown",
      "metadata": {
        "id": "bUP1Uqqt1fYM",
        "colab_type": "text"
      },
      "source": [
        "<img src=\"https://s3-api.us-geo.objectstorage.softlayer.net/cf-courses-data/CognitiveClass/DL0110EN/notebook_images%20/chapter2/2.1.2.png\" width=\"500\" alt=\"Linear Regression Multiple Input Samples\" />"
      ]
    },
    {
      "cell_type": "markdown",
      "metadata": {
        "id": "0z3ctwdQ1fYO",
        "colab_type": "text"
      },
      "source": [
        "Let us construct the <code>x</code> tensor first. Check the shape of <code>x</code>."
      ]
    },
    {
      "cell_type": "code",
      "metadata": {
        "id": "P0jZaxIP1fYP",
        "colab_type": "code",
        "colab": {
          "base_uri": "https://localhost:8080/",
          "height": 34
        },
        "outputId": "010b5bf1-1e1c-4ad5-90bc-d5e430a3ae5e"
      },
      "source": [
        "# Create x Tensor and check the shape of x tensor\n",
        "\n",
        "x = torch.tensor([[1.0], [2.0]])\n",
        "print(\"The shape of x: \", x.shape)"
      ],
      "execution_count": 5,
      "outputs": [
        {
          "output_type": "stream",
          "text": [
            "The shape of x:  torch.Size([2, 1])\n"
          ],
          "name": "stdout"
        }
      ]
    },
    {
      "cell_type": "markdown",
      "metadata": {
        "id": "AZW7I9oz1fYY",
        "colab_type": "text"
      },
      "source": [
        "Now make the prediction: "
      ]
    },
    {
      "cell_type": "code",
      "metadata": {
        "id": "iAILUcE41fYZ",
        "colab_type": "code",
        "colab": {
          "base_uri": "https://localhost:8080/",
          "height": 51
        },
        "outputId": "33c4a4af-fdeb-48d1-ee89-aef04f57a7b5"
      },
      "source": [
        "# Make the prediction of y = 2x - 1 at x = [1, 2]\n",
        "\n",
        "yhat = forward(x)\n",
        "print(\"The prediction: \", yhat)"
      ],
      "execution_count": 6,
      "outputs": [
        {
          "output_type": "stream",
          "text": [
            "The prediction:  tensor([[1.],\n",
            "        [3.]], grad_fn=<AddBackward0>)\n"
          ],
          "name": "stdout"
        }
      ]
    },
    {
      "cell_type": "markdown",
      "metadata": {
        "id": "V50hSgq81fYf",
        "colab_type": "text"
      },
      "source": [
        "The result is the same as what it is in the image above."
      ]
    },
    {
      "cell_type": "markdown",
      "metadata": {
        "id": "gIkqOdGV1fYg",
        "colab_type": "text"
      },
      "source": [
        "<!--Empty Space for separating topics-->"
      ]
    },
    {
      "cell_type": "markdown",
      "metadata": {
        "id": "qi5l3-Sj1fYh",
        "colab_type": "text"
      },
      "source": [
        "<h3>Practice</h3>"
      ]
    },
    {
      "cell_type": "markdown",
      "metadata": {
        "id": "1EdmnrAe1fYi",
        "colab_type": "text"
      },
      "source": [
        "Make a prediction of the following <code>x</code> tensor using the <code>w</code> and <code>b</code> from above."
      ]
    },
    {
      "cell_type": "code",
      "metadata": {
        "id": "qgFan6eR1fYj",
        "colab_type": "code",
        "colab": {
          "base_uri": "https://localhost:8080/",
          "height": 68
        },
        "outputId": "d34dd409-2d36-4f7a-f323-884eb78dfb06"
      },
      "source": [
        "# Practice: Make a prediction of y = 2x - 1 at x = [[1.0], [2.0], [3.0]]\n",
        "\n",
        "x = torch.tensor([[1.0], [2.0], [3.0]])\n",
        "\n",
        "y_hat = forward(x)\n",
        "print(y_hat)"
      ],
      "execution_count": 7,
      "outputs": [
        {
          "output_type": "stream",
          "text": [
            "tensor([[1.],\n",
            "        [3.],\n",
            "        [5.]], grad_fn=<AddBackward0>)\n"
          ],
          "name": "stdout"
        }
      ]
    },
    {
      "cell_type": "markdown",
      "metadata": {
        "id": "mzKhed5q1fYt",
        "colab_type": "text"
      },
      "source": [
        "Double-click <b>here</b> for the solution.\n",
        "\n",
        "<!-- Your answer is below:\n",
        "yhat = forward(x)\n",
        "print(\"The prediction: \", yhat)\n",
        "-->"
      ]
    },
    {
      "cell_type": "markdown",
      "metadata": {
        "id": "4fpEV72b1fYu",
        "colab_type": "text"
      },
      "source": [
        "<!--Empty Space for separating topics-->"
      ]
    },
    {
      "cell_type": "markdown",
      "metadata": {
        "id": "_kt4z-p41fYv",
        "colab_type": "text"
      },
      "source": [
        "<h2 id=\"Linear\">Class Linear</h2>"
      ]
    },
    {
      "cell_type": "markdown",
      "metadata": {
        "id": "qNZFtIQD1fYw",
        "colab_type": "text"
      },
      "source": [
        "The linear class can be used to make a prediction. We can also use the linear class to build more complex models. Let's import the module:"
      ]
    },
    {
      "cell_type": "code",
      "metadata": {
        "id": "C7lnQBu_1fYx",
        "colab_type": "code",
        "colab": {}
      },
      "source": [
        "# Import Class Linear\n",
        "\n",
        "from torch.nn import Linear"
      ],
      "execution_count": 0,
      "outputs": []
    },
    {
      "cell_type": "markdown",
      "metadata": {
        "id": "qfbvqEtK1fY4",
        "colab_type": "text"
      },
      "source": [
        "Set the random seed because the parameters are randomly initialized:"
      ]
    },
    {
      "cell_type": "code",
      "metadata": {
        "id": "-76C9sfP1fY5",
        "colab_type": "code",
        "colab": {
          "base_uri": "https://localhost:8080/",
          "height": 34
        },
        "outputId": "bf065307-30d6-45f1-c6c7-bcfcb85c3ddd"
      },
      "source": [
        "# Set random seed\n",
        "\n",
        "torch.manual_seed(1)"
      ],
      "execution_count": 9,
      "outputs": [
        {
          "output_type": "execute_result",
          "data": {
            "text/plain": [
              "<torch._C.Generator at 0x7fc66d7700d0>"
            ]
          },
          "metadata": {
            "tags": []
          },
          "execution_count": 9
        }
      ]
    },
    {
      "cell_type": "markdown",
      "metadata": {
        "id": "A6-EAN8A1fY_",
        "colab_type": "text"
      },
      "source": [
        "<!--Empty Space for separating topics-->"
      ]
    },
    {
      "cell_type": "markdown",
      "metadata": {
        "id": "poTgJhNF1fZA",
        "colab_type": "text"
      },
      "source": [
        "Let us create the linear object by using the constructor. The parameters are randomly created. Let us print out to see what <i>w</i> and <i>b</i>. The parameters of an <code>torch.nn.Module</code> model are contained in the model’s parameters accessed with <code>lr.parameters()</code>:"
      ]
    },
    {
      "cell_type": "code",
      "metadata": {
        "id": "gmTK5QUB1fZB",
        "colab_type": "code",
        "colab": {
          "base_uri": "https://localhost:8080/",
          "height": 68
        },
        "outputId": "018d637f-26f5-4c05-d73f-23ea4affed60"
      },
      "source": [
        "# Create Linear Regression Model, and print out the parameters\n",
        "\n",
        "lr = Linear(in_features=1, out_features=1, bias=True)\n",
        "print(\"Parameters w and b: \", list(lr.parameters()))\n"
      ],
      "execution_count": 10,
      "outputs": [
        {
          "output_type": "stream",
          "text": [
            "Parameters w and b:  [Parameter containing:\n",
            "tensor([[0.5153]], requires_grad=True), Parameter containing:\n",
            "tensor([-0.4414], requires_grad=True)]\n"
          ],
          "name": "stdout"
        }
      ]
    },
    {
      "cell_type": "markdown",
      "metadata": {
        "id": "4XAmY2aA1fZI",
        "colab_type": "text"
      },
      "source": [
        "This is equivalent to the following expression:  "
      ]
    },
    {
      "cell_type": "markdown",
      "metadata": {
        "id": "t3T3roi_1fZK",
        "colab_type": "text"
      },
      "source": [
        "$b=-0.44, w=0.5153$\n",
        "\n",
        "$\\hat{y}=-0.44+0.5153x$"
      ]
    },
    {
      "cell_type": "markdown",
      "metadata": {
        "id": "cZ58s9tD1fZL",
        "colab_type": "text"
      },
      "source": [
        "A method  <code>state_dict()</code> Returns a Python dictionary object corresponding to the layers of each parameter  tensor. "
      ]
    },
    {
      "cell_type": "code",
      "metadata": {
        "id": "UxjygOgE1fZN",
        "colab_type": "code",
        "colab": {
          "base_uri": "https://localhost:8080/",
          "height": 88
        },
        "outputId": "c1a1a209-d72b-419c-834a-7ea226c21605"
      },
      "source": [
        "print(\"Python dictionary: \",lr.state_dict())\n",
        "print(\"keys: \",lr.state_dict().keys())\n",
        "print(\"values: \",lr.state_dict().values())"
      ],
      "execution_count": 11,
      "outputs": [
        {
          "output_type": "stream",
          "text": [
            "Python dictionary:  OrderedDict([('weight', tensor([[0.5153]])), ('bias', tensor([-0.4414]))])\n",
            "keys:  odict_keys(['weight', 'bias'])\n",
            "values:  odict_values([tensor([[0.5153]]), tensor([-0.4414])])\n"
          ],
          "name": "stdout"
        }
      ]
    },
    {
      "cell_type": "markdown",
      "metadata": {
        "id": "1Kh0I67M1fZT",
        "colab_type": "text"
      },
      "source": [
        "The keys correspond to the name of the attributes and the values correspond to the parameter value."
      ]
    },
    {
      "cell_type": "code",
      "metadata": {
        "id": "8EhGEYhb1fZU",
        "colab_type": "code",
        "colab": {
          "base_uri": "https://localhost:8080/",
          "height": 85
        },
        "outputId": "e305ee7e-027d-4b61-be98-5dd129c37f45"
      },
      "source": [
        "print(\"weight:\",lr.weight)\n",
        "print(\"bias:\",lr.bias)"
      ],
      "execution_count": 12,
      "outputs": [
        {
          "output_type": "stream",
          "text": [
            "weight: Parameter containing:\n",
            "tensor([[0.5153]], requires_grad=True)\n",
            "bias: Parameter containing:\n",
            "tensor([-0.4414], requires_grad=True)\n"
          ],
          "name": "stdout"
        }
      ]
    },
    {
      "cell_type": "markdown",
      "metadata": {
        "id": "3Z40XCB51fZa",
        "colab_type": "text"
      },
      "source": [
        "Now let us make a single prediction at <i>x = [[1.0]]</i>."
      ]
    },
    {
      "cell_type": "code",
      "metadata": {
        "id": "Wm6YXP5g1fZb",
        "colab_type": "code",
        "colab": {
          "base_uri": "https://localhost:8080/",
          "height": 34
        },
        "outputId": "947fea74-efd7-450e-cd8c-c243e7645e19"
      },
      "source": [
        "# Make the prediction at x = [[1.0]]\n",
        "\n",
        "x = torch.tensor([[1.0]])\n",
        "yhat = lr(x)\n",
        "print(\"The prediction: \", yhat)"
      ],
      "execution_count": 13,
      "outputs": [
        {
          "output_type": "stream",
          "text": [
            "The prediction:  tensor([[0.0739]], grad_fn=<AddmmBackward>)\n"
          ],
          "name": "stdout"
        }
      ]
    },
    {
      "cell_type": "markdown",
      "metadata": {
        "id": "_iY3ykrj1fZg",
        "colab_type": "text"
      },
      "source": [
        "<!--Empty Space for separating topics-->"
      ]
    },
    {
      "cell_type": "markdown",
      "metadata": {
        "id": "FC4Owjbg1fZh",
        "colab_type": "text"
      },
      "source": [
        "Similarly, you can make multiple predictions:"
      ]
    },
    {
      "cell_type": "markdown",
      "metadata": {
        "id": "nTVzstM11fZi",
        "colab_type": "text"
      },
      "source": [
        "<img src=\"https://s3-api.us-geo.objectstorage.softlayer.net/cf-courses-data/CognitiveClass/DL0110EN/notebook_images%20/chapter2/2.1.2vector_function.png\" width=\"500\" alt=\"Linear Class Sample with Multiple Inputs\" />"
      ]
    },
    {
      "cell_type": "markdown",
      "metadata": {
        "id": "f1EyuZ2l1fZj",
        "colab_type": "text"
      },
      "source": [
        "Use model <code>lr(x)</code> to predict the result."
      ]
    },
    {
      "cell_type": "code",
      "metadata": {
        "id": "aVxHsOyR1fZk",
        "colab_type": "code",
        "colab": {
          "base_uri": "https://localhost:8080/",
          "height": 51
        },
        "outputId": "001581c6-18c4-4495-9e94-8a8fafe22620"
      },
      "source": [
        "# Create the prediction using linear model\n",
        "\n",
        "x = torch.tensor([[1.0], [2.0]])\n",
        "yhat = lr(x)\n",
        "print(\"The prediction: \", yhat)"
      ],
      "execution_count": 14,
      "outputs": [
        {
          "output_type": "stream",
          "text": [
            "The prediction:  tensor([[0.0739],\n",
            "        [0.5891]], grad_fn=<AddmmBackward>)\n"
          ],
          "name": "stdout"
        }
      ]
    },
    {
      "cell_type": "markdown",
      "metadata": {
        "id": "964K58k81fZp",
        "colab_type": "text"
      },
      "source": [
        "<!--Empty Space for separating topics-->"
      ]
    },
    {
      "cell_type": "markdown",
      "metadata": {
        "id": "lyiXlvQf1fZq",
        "colab_type": "text"
      },
      "source": [
        "<h3>Practice</h3>"
      ]
    },
    {
      "cell_type": "markdown",
      "metadata": {
        "id": "HIkUwRng1fZr",
        "colab_type": "text"
      },
      "source": [
        "Make a prediction of the following <code>x</code> tensor using the linear regression model <code>lr</code>."
      ]
    },
    {
      "cell_type": "code",
      "metadata": {
        "id": "yK5beOaR1fZs",
        "colab_type": "code",
        "colab": {
          "base_uri": "https://localhost:8080/",
          "height": 68
        },
        "outputId": "6d797ed9-881a-42ae-9b5d-db92ca7e96c3"
      },
      "source": [
        "# Practice: Use the linear regression model object lr to make the prediction.\n",
        "\n",
        "x = torch.tensor([[1.0],[2.0],[3.0]])\n",
        "\n",
        "y_hat = lr(x)\n",
        "print(y_hat)"
      ],
      "execution_count": 15,
      "outputs": [
        {
          "output_type": "stream",
          "text": [
            "tensor([[0.0739],\n",
            "        [0.5891],\n",
            "        [1.1044]], grad_fn=<AddmmBackward>)\n"
          ],
          "name": "stdout"
        }
      ]
    },
    {
      "cell_type": "markdown",
      "metadata": {
        "id": "2wYjqWUH1fZy",
        "colab_type": "text"
      },
      "source": [
        "Double-click <b>here</b> for the solution.\n",
        "\n",
        "<!-- Your answer is below:\n",
        "x=torch.tensor([[1.0],[2.0],[3.0]])\n",
        "yhat = lr(x)\n",
        "print(\"The prediction: \", yhat)\n",
        "-->"
      ]
    },
    {
      "cell_type": "markdown",
      "metadata": {
        "id": "8pYbmqQR1fZz",
        "colab_type": "text"
      },
      "source": [
        "<!--Empty Space for separating topics-->"
      ]
    },
    {
      "cell_type": "markdown",
      "metadata": {
        "id": "93zLgfFC1fZ0",
        "colab_type": "text"
      },
      "source": [
        "<h2 id=\"Cust\">Build Custom Modules</h2>"
      ]
    },
    {
      "cell_type": "markdown",
      "metadata": {
        "id": "UqQ-0zF31fZ4",
        "colab_type": "text"
      },
      "source": [
        "Now, let's build a custom module. We can make more complex models by using this method later on. "
      ]
    },
    {
      "cell_type": "markdown",
      "metadata": {
        "id": "pHTzhMDE1faC",
        "colab_type": "text"
      },
      "source": [
        "First, import the following library."
      ]
    },
    {
      "cell_type": "code",
      "metadata": {
        "id": "r1JtEsH_1faD",
        "colab_type": "code",
        "colab": {}
      },
      "source": [
        "# Library for this section\n",
        "\n",
        "from torch import nn"
      ],
      "execution_count": 0,
      "outputs": []
    },
    {
      "cell_type": "markdown",
      "metadata": {
        "id": "CeI8hYrz1faK",
        "colab_type": "text"
      },
      "source": [
        "Now, let us define the class: "
      ]
    },
    {
      "cell_type": "code",
      "metadata": {
        "id": "pCdUmS-c1faL",
        "colab_type": "code",
        "colab": {}
      },
      "source": [
        "# Customize Linear Regression Class\n",
        "\n",
        "class LR(nn.Module):\n",
        "    \n",
        "    # Constructor\n",
        "    def __init__(self, input_size, output_size):\n",
        "        \n",
        "        # Inherit from parent\n",
        "        super(LR, self).__init__()\n",
        "        self.linear = nn.Linear(input_size, output_size)\n",
        "    \n",
        "    # Prediction function\n",
        "    def forward(self, x):\n",
        "        out = self.linear(x)\n",
        "        return out"
      ],
      "execution_count": 0,
      "outputs": []
    },
    {
      "cell_type": "markdown",
      "metadata": {
        "id": "4JHJxIte1faS",
        "colab_type": "text"
      },
      "source": [
        "Create an object by using the constructor. Print out the parameters we get and the model."
      ]
    },
    {
      "cell_type": "code",
      "metadata": {
        "id": "dTUPQr7p1faT",
        "colab_type": "code",
        "colab": {
          "base_uri": "https://localhost:8080/",
          "height": 85
        },
        "outputId": "0a7e2f55-793e-4267-8b7d-e8e7b67f86a5"
      },
      "source": [
        "# Create the linear regression model. Print out the parameters.\n",
        "\n",
        "lr = LR(1, 1)\n",
        "print(\"The parameters: \", list(lr.parameters()))\n",
        "print(\"Linear model: \", lr.linear)"
      ],
      "execution_count": 18,
      "outputs": [
        {
          "output_type": "stream",
          "text": [
            "The parameters:  [Parameter containing:\n",
            "tensor([[-0.1939]], requires_grad=True), Parameter containing:\n",
            "tensor([0.4694], requires_grad=True)]\n",
            "Linear model:  Linear(in_features=1, out_features=1, bias=True)\n"
          ],
          "name": "stdout"
        }
      ]
    },
    {
      "cell_type": "markdown",
      "metadata": {
        "id": "-hV95_sc1fab",
        "colab_type": "text"
      },
      "source": [
        "<!--Empty Space for separating topics-->"
      ]
    },
    {
      "cell_type": "markdown",
      "metadata": {
        "id": "P5k39__G1fac",
        "colab_type": "text"
      },
      "source": [
        "Let us try to make a prediction of a single input sample."
      ]
    },
    {
      "cell_type": "code",
      "metadata": {
        "id": "4VB3X_V81fad",
        "colab_type": "code",
        "colab": {
          "base_uri": "https://localhost:8080/",
          "height": 34
        },
        "outputId": "614bf396-9d6f-4167-88ae-e6fafce972a6"
      },
      "source": [
        "# Try our customize linear regression model with single input\n",
        "\n",
        "x = torch.tensor([[1.0]])\n",
        "yhat = lr(x)\n",
        "print(\"The prediction: \", yhat)"
      ],
      "execution_count": 19,
      "outputs": [
        {
          "output_type": "stream",
          "text": [
            "The prediction:  tensor([[0.2755]], grad_fn=<AddmmBackward>)\n"
          ],
          "name": "stdout"
        }
      ]
    },
    {
      "cell_type": "markdown",
      "metadata": {
        "id": "fKEa6KgD1fai",
        "colab_type": "text"
      },
      "source": [
        "<!--Empty Space for separating topics-->"
      ]
    },
    {
      "cell_type": "markdown",
      "metadata": {
        "id": "bKjIOq6s1faj",
        "colab_type": "text"
      },
      "source": [
        "Now, let us try another example with multiple samples."
      ]
    },
    {
      "cell_type": "code",
      "metadata": {
        "id": "QvngADhX1fak",
        "colab_type": "code",
        "colab": {
          "base_uri": "https://localhost:8080/",
          "height": 51
        },
        "outputId": "69c62f88-971c-4267-fd6c-30f652cf213e"
      },
      "source": [
        "# Try our customize linear regression model with multiple input\n",
        "\n",
        "x = torch.tensor([[1.0], [2.0]])\n",
        "yhat = lr(x)\n",
        "print(\"The prediction: \", yhat)"
      ],
      "execution_count": 20,
      "outputs": [
        {
          "output_type": "stream",
          "text": [
            "The prediction:  tensor([[0.2755],\n",
            "        [0.0816]], grad_fn=<AddmmBackward>)\n"
          ],
          "name": "stdout"
        }
      ]
    },
    {
      "cell_type": "markdown",
      "metadata": {
        "id": "I6ADtGE-1fat",
        "colab_type": "text"
      },
      "source": [
        "the parameters are also stored in an ordered dictionary :"
      ]
    },
    {
      "cell_type": "code",
      "metadata": {
        "id": "j0X5xASl1fau",
        "colab_type": "code",
        "colab": {
          "base_uri": "https://localhost:8080/",
          "height": 88
        },
        "outputId": "30e80bd5-d153-4208-eff2-4bf850730eb2"
      },
      "source": [
        "print(\"Python dictionary: \", lr.state_dict())\n",
        "print(\"keys: \",lr.state_dict().keys())\n",
        "print(\"values: \",lr.state_dict().values())\n"
      ],
      "execution_count": 21,
      "outputs": [
        {
          "output_type": "stream",
          "text": [
            "Python dictionary:  OrderedDict([('linear.weight', tensor([[-0.1939]])), ('linear.bias', tensor([0.4694]))])\n",
            "keys:  odict_keys(['linear.weight', 'linear.bias'])\n",
            "values:  odict_values([tensor([[-0.1939]]), tensor([0.4694])])\n"
          ],
          "name": "stdout"
        }
      ]
    },
    {
      "cell_type": "markdown",
      "metadata": {
        "id": "BRNctDuE1fay",
        "colab_type": "text"
      },
      "source": [
        "<!--Empty Space for separating topics-->"
      ]
    },
    {
      "cell_type": "markdown",
      "metadata": {
        "id": "aiW7joHz1faz",
        "colab_type": "text"
      },
      "source": [
        "<h3>Practice</h3>"
      ]
    },
    {
      "cell_type": "markdown",
      "metadata": {
        "id": "PCbvUUkK1fa4",
        "colab_type": "text"
      },
      "source": [
        "Create an object <code>lr1</code> from the class we created before and make a prediction by using the following tensor: "
      ]
    },
    {
      "cell_type": "code",
      "metadata": {
        "id": "53WASK-c1fa5",
        "colab_type": "code",
        "colab": {
          "base_uri": "https://localhost:8080/",
          "height": 68
        },
        "outputId": "2768faf0-37d4-490e-b7aa-9bad01476dfd"
      },
      "source": [
        "# Practice: Use the LR class to create a model and make a prediction of the following tensor.\n",
        "\n",
        "x = torch.tensor([[1.0], [2.0], [3.0]])\n",
        "\n",
        "lr1 = LR(1, 1)\n",
        "y_hat = lr1(x)\n",
        "print(y_hat)"
      ],
      "execution_count": 22,
      "outputs": [
        {
          "output_type": "stream",
          "text": [
            "tensor([[-0.3417],\n",
            "        [-1.2832],\n",
            "        [-2.2246]], grad_fn=<AddmmBackward>)\n"
          ],
          "name": "stdout"
        }
      ]
    },
    {
      "cell_type": "markdown",
      "metadata": {
        "id": "BGZW1c9d1fbA",
        "colab_type": "text"
      },
      "source": [
        "Double-click <b>here</b> for the solution.\n",
        "\n",
        "<!-- Your answer is below:\n",
        "x=torch.tensor([[1.0],[2.0],[3.0]])\n",
        "lr1=LR(1,1)\n",
        "yhat=lr(x)\n",
        "yhat\n",
        "-->"
      ]
    },
    {
      "cell_type": "markdown",
      "metadata": {
        "id": "kD2rT2hu1fbB",
        "colab_type": "text"
      },
      "source": [
        " <!-- Your answer is below:\n",
        "x=torch.tensor([[1.0],[2.0],[3.0]])\n",
        "lr1=LR(1,1)\n",
        "yhat=lr1(x)\n",
        "yhat\n",
        "-->"
      ]
    },
    {
      "cell_type": "markdown",
      "metadata": {
        "id": "UO6qQs8l1fbC",
        "colab_type": "text"
      },
      "source": [
        "<a href=\"http://cocl.us/pytorch_link_bottom\">\n",
        "    <img src=\"https://s3-api.us-geo.objectstorage.softlayer.net/cf-courses-data/CognitiveClass/DL0110EN/notebook_images%20/notebook_bottom%20.png\" width=\"750\" alt=\"PyTorch Bottom\" />\n",
        "</a>"
      ]
    },
    {
      "cell_type": "markdown",
      "metadata": {
        "id": "RwFoXOli1fbH",
        "colab_type": "text"
      },
      "source": [
        "<h2>About the Authors:</h2> \n",
        "\n",
        "<a href=\"https://www.linkedin.com/in/joseph-s-50398b136/\">Joseph Santarcangelo</a> has a PhD in Electrical Engineering, his research focused on using machine learning, signal processing, and computer vision to determine how videos impact human cognition. Joseph has been working for IBM since he completed his PhD."
      ]
    },
    {
      "cell_type": "markdown",
      "metadata": {
        "id": "cKNuU7dz1fbI",
        "colab_type": "text"
      },
      "source": [
        "Other contributors: <a href=\"https://www.linkedin.com/in/michelleccarey/\">Michelle Carey</a>, <a href=\"www.linkedin.com/in/jiahui-mavis-zhou-a4537814a\">Mavis Zhou</a> "
      ]
    },
    {
      "cell_type": "markdown",
      "metadata": {
        "id": "BeY4oDhP1fbJ",
        "colab_type": "text"
      },
      "source": [
        "<hr>"
      ]
    },
    {
      "cell_type": "markdown",
      "metadata": {
        "id": "9ij6fx3E1fbK",
        "colab_type": "text"
      },
      "source": [
        "Copyright &copy; 2018 <a href=\"cognitiveclass.ai?utm_source=bducopyrightlink&utm_medium=dswb&utm_campaign=bdu\">cognitiveclass.ai</a>. This notebook and its source code are released under the terms of the <a href=\"https://bigdatauniversity.com/mit-license/\">MIT License</a>."
      ]
    }
  ]
}